{
 "cells": [
  {
   "cell_type": "code",
   "execution_count": 2,
   "metadata": {
    "id": "q-j3b_Sx4Tb9"
   },
   "outputs": [],
   "source": [
    "import torch\n",
    "from torch import nn\n",
    "from torch.utils.data import DataLoader\n",
    "from torchvision import datasets\n",
    "import torchvision.transforms as transforms"
   ]
  },
  {
   "cell_type": "code",
   "execution_count": 3,
   "metadata": {
    "id": "Be731vWl4Wj1"
   },
   "outputs": [],
   "source": [
    "# Download training data from open datasets.\n",
    "# Guassian blur - how to do: RESEARCH\n",
    "training_data = datasets.Flowers102(\n",
    "    root=\"data\",\n",
    "    split=\"train\",\n",
    "    download=True,\n",
    "    transform = transforms.Compose([transforms.Resize((64, 64)), transforms.ToTensor(), transforms.RandomHorizontalFlip(),\n",
    "                                    transforms.Normalize((0.4914, 0.4822, 0.4465), (0.2023, 0.1994, 0.2010)),\n",
    "                                    transforms.RandomVerticalFlip(), transforms.RandomRotation(45)]),\n",
    ")\n",
    "\n",
    "# Download test data from open datasets.\n",
    "test_data = datasets.Flowers102(\n",
    "    root=\"data\",\n",
    "    split=\"test\",\n",
    "    download=True,\n",
    "    transform = transforms.Compose([transforms.Resize((64, 64)), transforms.ToTensor(),\n",
    "                                   transforms.Normalize((0.4914, 0.4822, 0.4465), (0.2023, 0.1994, 0.2010))]),\n",
    ")"
   ]
  },
  {
   "cell_type": "code",
   "execution_count": 4,
   "metadata": {
    "id": "9QtjhkqE4ar5"
   },
   "outputs": [],
   "source": [
    "batch_size = 32\n",
    "num_classes = 102\n",
    "learning_rate = 0.001\n",
    "num_epochs = 90\n",
    "\n",
    "# Create data loaders.\n",
    "train_dataloader = DataLoader(training_data, batch_size=batch_size, shuffle=True)\n",
    "test_dataloader = DataLoader(test_data, batch_size=batch_size)"
   ]
  },
  {
   "cell_type": "code",
   "execution_count": 5,
   "metadata": {
    "id": "zuLLmf1t4b82"
   },
   "outputs": [],
   "source": [
    "import torch.nn.functional as F\n",
    "import os\n",
    "\n",
    "class Net(nn.Module):\n",
    "\t#  Determine what layers and their order in CNN object \n",
    "    def __init__(self, num_classes):\n",
    "        super(Net, self).__init__()\n",
    "        self.conv_layer1 = nn.Conv2d(in_channels=3, out_channels=64, kernel_size=3)\n",
    "        self.conv_layer2 = nn.Conv2d(in_channels=64, out_channels=128, kernel_size=3)\n",
    "        self.batch_layer1 = nn.BatchNorm2d(num_features=128) \n",
    "        self.max_pool1 = nn.MaxPool2d(kernel_size = 2, stride = 2)\n",
    "        \n",
    "        self.conv_layer3 = nn.Conv2d(in_channels=128, out_channels=512, kernel_size=3)\n",
    "        self.conv_layer4 = nn.Conv2d(in_channels=512, out_channels=512, kernel_size=3)\n",
    "        self.batch_layer2 = nn.BatchNorm2d(num_features=512)\n",
    "        self.max_pool2 = nn.MaxPool2d(kernel_size = 2, stride = 2)\n",
    "\n",
    "        self.conv_layer5 = nn.Conv2d(in_channels=512, out_channels=512, kernel_size=3)\n",
    "        self.conv_layer6 = nn.Conv2d(in_channels=512, out_channels=512, kernel_size=3)\n",
    "        self.batch_layer3 = nn.BatchNorm2d(num_features=512)\n",
    "        self.max_pool3 = nn.MaxPool2d(kernel_size = 2, stride = 2)\n",
    "\n",
    "        self.fc1 = nn.Linear(8192 , 128)\n",
    "        self.relu1 = nn.ReLU()\n",
    "        self.fc2 = nn.Linear(128, num_classes)\n",
    "    \n",
    "\n",
    "    def forward(self, x):\n",
    "        out = self.conv_layer1(x)\n",
    "        out = self.conv_layer2(out)\n",
    "        out = self.batch_layer1(out)\n",
    "        out = self.relu1(out)\n",
    "        out = self.max_pool1(out)\n",
    "        \n",
    "        out = self.conv_layer3(out)\n",
    "        out = self.conv_layer4(out)\n",
    "        out = self.batch_layer2(out)\n",
    "        out = self.relu1(out)\n",
    "        out = self.max_pool2(out)\n",
    "\n",
    "        out = self.conv_layer5(out)\n",
    "        out = self.conv_layer6(out)\n",
    "        out = self.batch_layer3(out)\n",
    "        out = self.relu1(out)\n",
    "        out = self.max_pool3(out)\n",
    "                \n",
    "        out = out.reshape(out.size(0), -1)\n",
    "        \n",
    "        out = self.fc1(out)\n",
    "        out = self.relu1(out)\n",
    "        out = self.fc2(out)\n",
    "        return out\n",
    "\n",
    "net = Net(num_classes)\n",
    "\n",
    "def save_network(network, epoch_label):\n",
    "    save_filename = 'net_%s.pth' % epoch_label\n",
    "    save_path = os.path.join(save_filename)\n",
    "    torch.save(network.state_dict(), save_path)"
   ]
  },
  {
   "cell_type": "code",
   "execution_count": 6,
   "metadata": {
    "id": "j1nVfQzO4zNS"
   },
   "outputs": [],
   "source": [
    "import torch.optim as optim\n",
    "\n",
    "criterion = nn.CrossEntropyLoss()\n",
    "optimizer = optim.SGD(net.parameters(), lr=learning_rate, momentum=0.9)\n",
    "\n",
    "device = torch.device('cuda' if torch.cuda.is_available() else 'cpu')"
   ]
  },
  {
   "cell_type": "code",
   "execution_count": 7,
   "metadata": {
    "colab": {
     "base_uri": "https://localhost:8080/",
     "height": 1000
    },
    "id": "5-Ag8ogm4za3",
    "outputId": "528f1e72-014b-457e-83d4-19cf48ae2a52",
    "scrolled": true
   },
   "outputs": [
    {
     "name": "stdout",
     "output_type": "stream",
     "text": [
      "Epoch [1/90], Loss: 4.5070\n",
      "Epoch [2/90], Loss: 4.1324\n",
      "Epoch [3/90], Loss: 3.7735\n",
      "Epoch [4/90], Loss: 3.7104\n",
      "Epoch [5/90], Loss: 3.5980\n",
      "Epoch [6/90], Loss: 3.1165\n",
      "Epoch [7/90], Loss: 3.4637\n",
      "Epoch [8/90], Loss: 3.1603\n",
      "Epoch [9/90], Loss: 2.7535\n",
      "Epoch [10/90], Loss: 2.6725\n",
      "Epoch [11/90], Loss: 2.4966\n",
      "Epoch [12/90], Loss: 2.4178\n",
      "Epoch [13/90], Loss: 2.3663\n",
      "Epoch [14/90], Loss: 2.3964\n",
      "Epoch [15/90], Loss: 2.4144\n",
      "Epoch [16/90], Loss: 2.6803\n",
      "Epoch [17/90], Loss: 2.2658\n",
      "Epoch [18/90], Loss: 2.1568\n",
      "Epoch [19/90], Loss: 2.3691\n",
      "Epoch [20/90], Loss: 1.6715\n",
      "Epoch [21/90], Loss: 1.6113\n",
      "Epoch [22/90], Loss: 1.7703\n",
      "Epoch [23/90], Loss: 1.3646\n",
      "Epoch [24/90], Loss: 1.3218\n",
      "Epoch [25/90], Loss: 1.8827\n",
      "Epoch [26/90], Loss: 1.3270\n",
      "Epoch [27/90], Loss: 1.3488\n",
      "Epoch [28/90], Loss: 1.4320\n",
      "Epoch [29/90], Loss: 1.2404\n",
      "Epoch [30/90], Loss: 1.5797\n",
      "Epoch [31/90], Loss: 1.3203\n",
      "Epoch [32/90], Loss: 1.4611\n",
      "Epoch [33/90], Loss: 1.5193\n",
      "Epoch [34/90], Loss: 1.0114\n",
      "Epoch [35/90], Loss: 1.4432\n",
      "Epoch [36/90], Loss: 0.8892\n",
      "Epoch [37/90], Loss: 1.0899\n",
      "Epoch [38/90], Loss: 1.1827\n",
      "Epoch [39/90], Loss: 0.8597\n",
      "Epoch [40/90], Loss: 0.7292\n",
      "Epoch [41/90], Loss: 0.6772\n",
      "Epoch [42/90], Loss: 0.7901\n",
      "Epoch [43/90], Loss: 1.0328\n",
      "Epoch [44/90], Loss: 0.6527\n",
      "Epoch [45/90], Loss: 0.6389\n",
      "Epoch [46/90], Loss: 0.7250\n",
      "Epoch [47/90], Loss: 0.6415\n",
      "Epoch [48/90], Loss: 0.5930\n",
      "Epoch [49/90], Loss: 0.6916\n",
      "Epoch [50/90], Loss: 0.3343\n",
      "Epoch [51/90], Loss: 0.6609\n",
      "Epoch [52/90], Loss: 0.5998\n",
      "Epoch [53/90], Loss: 0.5501\n",
      "Epoch [54/90], Loss: 0.3893\n",
      "Epoch [55/90], Loss: 0.3536\n",
      "Epoch [56/90], Loss: 0.2459\n",
      "Epoch [57/90], Loss: 0.2887\n",
      "Epoch [58/90], Loss: 0.5924\n",
      "Epoch [59/90], Loss: 0.5155\n",
      "Epoch [60/90], Loss: 0.3097\n",
      "Epoch [61/90], Loss: 0.1969\n",
      "Epoch [62/90], Loss: 0.2307\n",
      "Epoch [63/90], Loss: 0.2161\n",
      "Epoch [64/90], Loss: 0.3341\n",
      "Epoch [65/90], Loss: 0.3329\n",
      "Epoch [66/90], Loss: 0.3450\n",
      "Epoch [67/90], Loss: 0.2878\n",
      "Epoch [68/90], Loss: 0.1774\n",
      "Epoch [69/90], Loss: 0.1345\n",
      "Epoch [70/90], Loss: 0.2892\n",
      "Epoch [71/90], Loss: 0.1293\n",
      "Epoch [72/90], Loss: 0.1093\n",
      "Epoch [73/90], Loss: 0.1132\n",
      "Epoch [74/90], Loss: 0.1504\n",
      "Epoch [75/90], Loss: 0.1673\n",
      "Epoch [76/90], Loss: 0.1336\n",
      "Epoch [77/90], Loss: 0.2265\n",
      "Epoch [78/90], Loss: 0.2502\n",
      "Epoch [79/90], Loss: 0.0744\n",
      "Epoch [80/90], Loss: 0.1904\n",
      "Epoch [81/90], Loss: 0.0745\n",
      "Epoch [82/90], Loss: 0.0632\n",
      "Epoch [83/90], Loss: 0.2152\n",
      "Epoch [84/90], Loss: 0.1037\n",
      "Epoch [85/90], Loss: 0.1059\n",
      "Epoch [86/90], Loss: 0.0819\n",
      "Epoch [87/90], Loss: 0.0850\n",
      "Epoch [88/90], Loss: 0.0907\n",
      "Epoch [89/90], Loss: 0.1545\n",
      "Epoch [90/90], Loss: 0.0777\n"
     ]
    }
   ],
   "source": [
    "saveCounter = 0\n",
    "minLoss = 10000\n",
    "\n",
    "# We use the pre-defined number of epochs to determine how many iterations to train the network on\n",
    "for epoch in range(num_epochs):\n",
    "\t#Load in the data in batches using the train_loader object\n",
    "    for i, (images, labels) in enumerate(train_dataloader):  \n",
    "        # Move tensors to the configured device\n",
    "        images = images.to(device)\n",
    "        labels = labels.to(device)\n",
    "        \n",
    "        # Forward pass\n",
    "        outputs = net(images)\n",
    "        loss = criterion(outputs, labels)\n",
    "      \n",
    "        \n",
    "        # Backward and optimize\n",
    "        optimizer.zero_grad()\n",
    "        loss.backward()\n",
    "        optimizer.step()\n",
    "\n",
    "    if minLoss > loss:\n",
    "        saveCounter += 1\n",
    "        save_network(net, saveCounter)\n",
    "        minLoss = loss\n",
    "\n",
    "    print('Epoch [{}/{}], Loss: {:.4f}'.format(epoch+1, num_epochs, loss.item()))"
   ]
  },
  {
   "cell_type": "code",
   "execution_count": 8,
   "metadata": {
    "colab": {
     "base_uri": "https://localhost:8080/",
     "height": 239
    },
    "id": "BsUH3Yfv47K6",
    "outputId": "6a312104-6d3a-42d4-9153-34e7c8fbbce3"
   },
   "outputs": [
    {
     "name": "stdout",
     "output_type": "stream",
     "text": [
      "Accuracy of the network on the 6149 train images: 44.429988616035125 %\n"
     ]
    }
   ],
   "source": [
    "net.eval()\n",
    "\n",
    "with torch.no_grad():\n",
    "    correct = 0\n",
    "    total = 0\n",
    "    for images, labels in test_dataloader:\n",
    "        images = images.to(device)\n",
    "        labels = labels.to(device)\n",
    "        outputs = net(images)\n",
    "        _, predicted = torch.max(outputs.data, 1)\n",
    "        total += labels.size(0)\n",
    "        correct += (predicted == labels).sum().item()\n",
    "    \n",
    "    print('Accuracy of the network on the {} train images: {} %'.format(total, 100 * correct / total))"
   ]
  },
  {
   "cell_type": "code",
   "execution_count": null,
   "metadata": {
    "id": "V0287sPvFo3l"
   },
   "outputs": [],
   "source": []
  }
 ],
 "metadata": {
  "colab": {
   "provenance": []
  },
  "kernelspec": {
   "display_name": "Python 3 (ipykernel)",
   "language": "python",
   "name": "python3"
  },
  "language_info": {
   "codemirror_mode": {
    "name": "ipython",
    "version": 3
   },
   "file_extension": ".py",
   "mimetype": "text/x-python",
   "name": "python",
   "nbconvert_exporter": "python",
   "pygments_lexer": "ipython3",
   "version": "3.10.9"
  }
 },
 "nbformat": 4,
 "nbformat_minor": 1
}
