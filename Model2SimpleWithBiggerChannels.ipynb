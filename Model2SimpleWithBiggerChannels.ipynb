{
  "cells": [
    {
      "cell_type": "markdown",
      "metadata": {
        "id": "view-in-github",
        "colab_type": "text"
      },
      "source": [
        "<a href=\"https://colab.research.google.com/github/mistryvivek/flowers-nn-int2/blob/main/Model2SimpleWithBiggerChannels.ipynb\" target=\"_parent\"><img src=\"https://colab.research.google.com/assets/colab-badge.svg\" alt=\"Open In Colab\"/></a>"
      ]
    },
    {
      "cell_type": "code",
      "execution_count": 1,
      "metadata": {
        "id": "QsssxQAQR-zT"
      },
      "outputs": [],
      "source": [
        "import torch\n",
        "from torch import nn\n",
        "from torch.utils.data import DataLoader\n",
        "from torchvision import datasets\n",
        "import torchvision.transforms as transforms"
      ]
    },
    {
      "cell_type": "code",
      "execution_count": 2,
      "metadata": {
        "id": "ABW9S8ccRXA9",
        "colab": {
          "base_uri": "https://localhost:8080/"
        },
        "outputId": "d927a4e0-820e-4ce8-839a-b69cbbbea4e6"
      },
      "outputs": [
        {
          "output_type": "stream",
          "name": "stdout",
          "text": [
            "Downloading https://thor.robots.ox.ac.uk/datasets/flowers-102/102flowers.tgz to data/flowers-102/102flowers.tgz\n"
          ]
        },
        {
          "output_type": "stream",
          "name": "stderr",
          "text": [
            "100%|██████████| 344862509/344862509 [00:09<00:00, 35931758.56it/s]\n"
          ]
        },
        {
          "output_type": "stream",
          "name": "stdout",
          "text": [
            "Extracting data/flowers-102/102flowers.tgz to data/flowers-102\n",
            "Downloading https://thor.robots.ox.ac.uk/datasets/flowers-102/imagelabels.mat to data/flowers-102/imagelabels.mat\n"
          ]
        },
        {
          "output_type": "stream",
          "name": "stderr",
          "text": [
            "100%|██████████| 502/502 [00:00<00:00, 393779.80it/s]\n"
          ]
        },
        {
          "output_type": "stream",
          "name": "stdout",
          "text": [
            "Downloading https://thor.robots.ox.ac.uk/datasets/flowers-102/setid.mat to data/flowers-102/setid.mat\n"
          ]
        },
        {
          "output_type": "stream",
          "name": "stderr",
          "text": [
            "100%|██████████| 14989/14989 [00:00<00:00, 10352119.65it/s]\n"
          ]
        }
      ],
      "source": [
        "# Download training data from open datasets.\n",
        "training_data = datasets.Flowers102(\n",
        "    root=\"data\",\n",
        "    split=\"train\",\n",
        "    download=True,\n",
        "    transform = transforms.Compose([transforms.Resize((32, 32)), transforms.ToTensor()]),\n",
        ")\n",
        "\n",
        "# Download test data from open datasets.\n",
        "test_data = datasets.Flowers102(\n",
        "    root=\"data\",\n",
        "    split=\"test\",\n",
        "    download=True,\n",
        "    transform = transforms.Compose([transforms.Resize((32, 32)), transforms.ToTensor()]),\n",
        ")"
      ]
    },
    {
      "cell_type": "code",
      "execution_count": 23,
      "metadata": {
        "id": "qYjXE0g-RbZy"
      },
      "outputs": [],
      "source": [
        "batch_size = 30\n",
        "num_classes = 102\n",
        "learning_rate = 0.001\n",
        "num_epochs = 100\n",
        "\n",
        "# Create data loaders.\n",
        "train_dataloader = DataLoader(training_data, batch_size=batch_size, shuffle=True)\n",
        "test_dataloader = DataLoader(test_data, batch_size=batch_size)"
      ]
    },
    {
      "cell_type": "code",
      "execution_count": 24,
      "metadata": {
        "id": "3lFiq2X8SEdB"
      },
      "outputs": [],
      "source": [
        "import torch.nn.functional as F\n",
        "\n",
        "class Net(nn.Module):\n",
        "\t#  Determine what layers and their order in CNN object \n",
        "    def __init__(self, num_classes):\n",
        "        super(Net, self).__init__()\n",
        "        self.conv_layer1 = nn.Conv2d(in_channels=3, out_channels=64, kernel_size=3, padding_mode='replicate')\n",
        "        self.conv_layer2 = nn.Conv2d(in_channels=64, out_channels=128, kernel_size=3, padding_mode='replicate')\n",
        "        self.max_pool1 = nn.MaxPool2d(kernel_size = 2, stride = 2)\n",
        "        \n",
        "        self.conv_layer3 = nn.Conv2d(in_channels=128, out_channels=256, kernel_size=3, padding_mode='replicate')\n",
        "        self.conv_layer4 = nn.Conv2d(in_channels=256, out_channels=512, kernel_size=3, padding_mode='replicate')\n",
        "        self.max_pool2 = nn.MaxPool2d(kernel_size = 2, stride = 2)\n",
        "        \n",
        "        self.fc1 = nn.Linear(12800 , 128)\n",
        "        self.relu1 = nn.ReLU()\n",
        "        self.fc2 = nn.Linear(128, num_classes)\n",
        "    \n",
        "\n",
        "    def forward(self, x):\n",
        "        out = self.conv_layer1(x)\n",
        "        out = self.conv_layer2(out)\n",
        "        out = self.max_pool1(out)\n",
        "        \n",
        "        out = self.conv_layer3(out)\n",
        "        out = self.conv_layer4(out)\n",
        "        out = self.max_pool2(out)\n",
        "                \n",
        "        out = out.reshape(out.size(0), -1)\n",
        "        \n",
        "        out = self.fc1(out)\n",
        "        out = self.relu1(out)\n",
        "        out = self.fc2(out)\n",
        "        return out\n",
        "\n",
        "\n",
        "net = Net(num_classes)"
      ]
    },
    {
      "cell_type": "code",
      "execution_count": 25,
      "metadata": {
        "id": "JIk8pWLkSgVi"
      },
      "outputs": [],
      "source": [
        "import torch.optim as optim\n",
        "\n",
        "criterion = nn.CrossEntropyLoss()\n",
        "optimizer = optim.SGD(net.parameters(), lr=learning_rate, momentum=0.9)\n",
        "\n",
        "device = torch.device('cuda' if torch.cuda.is_available() else 'cpu')"
      ]
    },
    {
      "cell_type": "code",
      "execution_count": 26,
      "metadata": {
        "colab": {
          "base_uri": "https://localhost:8080/"
        },
        "id": "jtRWIVVbSjlk",
        "outputId": "62c094cf-19bf-4730-a1d7-78ebcc3c74e5"
      },
      "outputs": [
        {
          "output_type": "stream",
          "name": "stdout",
          "text": [
            "Epoch [1/100], Loss: 4.6306\n",
            "Epoch [2/100], Loss: 4.6245\n",
            "Epoch [3/100], Loss: 4.6262\n",
            "Epoch [4/100], Loss: 4.6026\n",
            "Epoch [5/100], Loss: 4.6056\n",
            "Epoch [6/100], Loss: 4.6108\n",
            "Epoch [7/100], Loss: 4.6109\n",
            "Epoch [8/100], Loss: 4.5922\n",
            "Epoch [9/100], Loss: 4.5767\n",
            "Epoch [10/100], Loss: 4.5852\n",
            "Epoch [11/100], Loss: 4.5626\n",
            "Epoch [12/100], Loss: 4.5452\n",
            "Epoch [13/100], Loss: 4.5020\n",
            "Epoch [14/100], Loss: 4.5088\n",
            "Epoch [15/100], Loss: 4.3890\n",
            "Epoch [16/100], Loss: 4.3830\n",
            "Epoch [17/100], Loss: 4.3425\n",
            "Epoch [18/100], Loss: 4.1407\n",
            "Epoch [19/100], Loss: 4.2843\n",
            "Epoch [20/100], Loss: 4.1915\n",
            "Epoch [21/100], Loss: 3.9458\n",
            "Epoch [22/100], Loss: 3.6800\n",
            "Epoch [23/100], Loss: 3.9694\n",
            "Epoch [24/100], Loss: 3.8729\n",
            "Epoch [25/100], Loss: 3.8797\n",
            "Epoch [26/100], Loss: 3.6143\n",
            "Epoch [27/100], Loss: 3.6504\n",
            "Epoch [28/100], Loss: 3.7584\n",
            "Epoch [29/100], Loss: 2.9675\n",
            "Epoch [30/100], Loss: 3.0117\n",
            "Epoch [31/100], Loss: 3.4580\n",
            "Epoch [32/100], Loss: 3.0779\n",
            "Epoch [33/100], Loss: 2.9418\n",
            "Epoch [34/100], Loss: 2.5629\n",
            "Epoch [35/100], Loss: 3.1026\n",
            "Epoch [36/100], Loss: 1.8451\n",
            "Epoch [37/100], Loss: 2.5114\n",
            "Epoch [38/100], Loss: 2.3457\n",
            "Epoch [39/100], Loss: 2.0941\n",
            "Epoch [40/100], Loss: 1.9936\n",
            "Epoch [41/100], Loss: 2.2452\n",
            "Epoch [42/100], Loss: 1.7714\n",
            "Epoch [43/100], Loss: 1.4952\n",
            "Epoch [44/100], Loss: 1.4150\n",
            "Epoch [45/100], Loss: 2.0959\n",
            "Epoch [46/100], Loss: 1.8583\n",
            "Epoch [47/100], Loss: 1.0003\n",
            "Epoch [48/100], Loss: 0.8870\n",
            "Epoch [49/100], Loss: 1.1379\n",
            "Epoch [50/100], Loss: 0.8931\n",
            "Epoch [51/100], Loss: 0.8861\n",
            "Epoch [52/100], Loss: 1.0206\n",
            "Epoch [53/100], Loss: 0.7456\n",
            "Epoch [54/100], Loss: 0.4852\n",
            "Epoch [55/100], Loss: 0.3665\n",
            "Epoch [56/100], Loss: 0.1439\n",
            "Epoch [57/100], Loss: 0.3393\n",
            "Epoch [58/100], Loss: 0.2502\n",
            "Epoch [59/100], Loss: 0.1880\n",
            "Epoch [60/100], Loss: 0.2148\n",
            "Epoch [61/100], Loss: 0.1855\n",
            "Epoch [62/100], Loss: 0.0306\n",
            "Epoch [63/100], Loss: 0.0331\n",
            "Epoch [64/100], Loss: 0.0185\n",
            "Epoch [65/100], Loss: 0.0176\n",
            "Epoch [66/100], Loss: 0.0153\n",
            "Epoch [67/100], Loss: 0.0103\n",
            "Epoch [68/100], Loss: 0.0096\n",
            "Epoch [69/100], Loss: 0.0440\n",
            "Epoch [70/100], Loss: 0.0232\n",
            "Epoch [71/100], Loss: 0.0064\n",
            "Epoch [72/100], Loss: 0.0106\n",
            "Epoch [73/100], Loss: 0.0097\n",
            "Epoch [74/100], Loss: 0.0082\n",
            "Epoch [75/100], Loss: 0.0331\n",
            "Epoch [76/100], Loss: 0.0047\n",
            "Epoch [77/100], Loss: 0.0052\n",
            "Epoch [78/100], Loss: 0.0037\n",
            "Epoch [79/100], Loss: 0.0049\n",
            "Epoch [80/100], Loss: 0.0059\n",
            "Epoch [81/100], Loss: 0.0034\n",
            "Epoch [82/100], Loss: 0.0028\n",
            "Epoch [83/100], Loss: 0.0037\n",
            "Epoch [84/100], Loss: 0.0032\n",
            "Epoch [85/100], Loss: 0.0022\n",
            "Epoch [86/100], Loss: 0.0025\n",
            "Epoch [87/100], Loss: 0.0022\n",
            "Epoch [88/100], Loss: 0.0034\n",
            "Epoch [89/100], Loss: 0.0018\n",
            "Epoch [90/100], Loss: 0.0024\n",
            "Epoch [91/100], Loss: 0.0023\n",
            "Epoch [92/100], Loss: 0.0027\n",
            "Epoch [93/100], Loss: 0.0027\n",
            "Epoch [94/100], Loss: 0.0019\n",
            "Epoch [95/100], Loss: 0.0013\n",
            "Epoch [96/100], Loss: 0.0023\n",
            "Epoch [97/100], Loss: 0.0018\n",
            "Epoch [98/100], Loss: 0.0020\n",
            "Epoch [99/100], Loss: 0.0015\n",
            "Epoch [100/100], Loss: 0.0014\n"
          ]
        }
      ],
      "source": [
        "# We use the pre-defined number of epochs to determine how many iterations to train the network on\n",
        "for epoch in range(num_epochs):\n",
        "\t#Load in the data in batches using the train_loader object\n",
        "    for i, (images, labels) in enumerate(train_dataloader):  \n",
        "        # Move tensors to the configured device\n",
        "        images = images.to(device)\n",
        "        labels = labels.to(device)\n",
        "        \n",
        "        # Forward pass\n",
        "        outputs = net(images)\n",
        "        loss = criterion(outputs, labels)\n",
        "      \n",
        "        \n",
        "        # Backward and optimize\n",
        "        optimizer.zero_grad()\n",
        "        loss.backward()\n",
        "        optimizer.step()\n",
        "\n",
        "    print('Epoch [{}/{}], Loss: {:.4f}'.format(epoch+1, num_epochs, loss.item()))"
      ]
    },
    {
      "cell_type": "code",
      "execution_count": 28,
      "metadata": {
        "id": "m1LtvnHfmhGM",
        "colab": {
          "base_uri": "https://localhost:8080/"
        },
        "outputId": "ce6cc3be-2f15-4c05-921e-1195cb51fa2d"
      },
      "outputs": [
        {
          "output_type": "stream",
          "name": "stdout",
          "text": [
            "Accuracy of the network on the 6149 train images: 18.116766953976256 %\n"
          ]
        }
      ],
      "source": [
        "with torch.no_grad():\n",
        "    correct = 0\n",
        "    total = 0\n",
        "    for images, labels in test_dataloader:\n",
        "        images = images.to(device)\n",
        "        labels = labels.to(device)\n",
        "        outputs = net(images)\n",
        "        _, predicted = torch.max(outputs.data, 1)\n",
        "        total += labels.size(0)\n",
        "        correct += (predicted == labels).sum().item()\n",
        "    \n",
        "    print('Accuracy of the network on the {} train images: {} %'.format(total, 100 * correct / total))"
      ]
    }
  ],
  "metadata": {
    "colab": {
      "provenance": [],
      "authorship_tag": "ABX9TyPh+lrsyUoCuHuNf+7gqY3b",
      "include_colab_link": true
    },
    "kernelspec": {
      "display_name": "Python 3",
      "name": "python3"
    },
    "language_info": {
      "name": "python"
    }
  },
  "nbformat": 4,
  "nbformat_minor": 0
}