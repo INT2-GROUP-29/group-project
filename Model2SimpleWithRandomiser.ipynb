{
  "cells": [
    {
      "cell_type": "markdown",
      "metadata": {
        "id": "view-in-github",
        "colab_type": "text"
      },
      "source": [
        "<a href=\"https://colab.research.google.com/github/mistryvivek/flowers-nn-int2/blob/main/Model2SimpleWithRandomiser.ipynb\" target=\"_parent\"><img src=\"https://colab.research.google.com/assets/colab-badge.svg\" alt=\"Open In Colab\"/></a>"
      ]
    },
    {
      "cell_type": "code",
      "execution_count": 2,
      "metadata": {
        "id": "QsssxQAQR-zT"
      },
      "outputs": [],
      "source": [
        "import torch\n",
        "from torch import nn\n",
        "from torch.utils.data import DataLoader\n",
        "from torchvision import datasets\n",
        "import torchvision.transforms as transforms"
      ]
    },
    {
      "cell_type": "code",
      "execution_count": 21,
      "metadata": {
        "id": "ABW9S8ccRXA9"
      },
      "outputs": [],
      "source": [
        "# Download training data from open datasets.\n",
        "training_data = datasets.Flowers102(\n",
        "    root=\"data\",\n",
        "    split=\"train\",\n",
        "    download=True,\n",
        "    transform = transforms.Compose([transforms.Resize((32, 32)), transforms.ToTensor()]),\n",
        ")\n",
        "\n",
        "# Download test data from open datasets.\n",
        "test_data = datasets.Flowers102(\n",
        "    root=\"data\",\n",
        "    split=\"test\",\n",
        "    download=True,\n",
        "    transform = transforms.Compose([transforms.Resize((32, 32)), transforms.ToTensor()]),\n",
        ")"
      ]
    },
    {
      "cell_type": "code",
      "execution_count": 17,
      "metadata": {
        "id": "qYjXE0g-RbZy"
      },
      "outputs": [],
      "source": [
        "batch_size = 30\n",
        "num_classes = 102\n",
        "learning_rate = 0.001\n",
        "num_epochs = 50\n",
        "\n",
        "# Create data loaders.\n",
        "train_dataloader = DataLoader(training_data, batch_size=batch_size, shuffle=True)\n",
        "test_dataloader = DataLoader(test_data, batch_size=batch_size)"
      ]
    },
    {
      "cell_type": "code",
      "execution_count": 18,
      "metadata": {
        "id": "3lFiq2X8SEdB"
      },
      "outputs": [],
      "source": [
        "import torch.nn.functional as F\n",
        "\n",
        "class Net(nn.Module):\n",
        "\t#  Determine what layers and their order in CNN object \n",
        "    def __init__(self, num_classes):\n",
        "        super(Net, self).__init__()\n",
        "        self.conv_layer1 = nn.Conv2d(in_channels=3, out_channels=32, kernel_size=3, padding_mode='replicate')\n",
        "        self.conv_layer2 = nn.Conv2d(in_channels=32, out_channels=32, kernel_size=3, padding_mode='replicate')\n",
        "        self.max_pool1 = nn.MaxPool2d(kernel_size = 2, stride = 2)\n",
        "        \n",
        "        self.conv_layer3 = nn.Conv2d(in_channels=32, out_channels=64, kernel_size=3, padding_mode='replicate')\n",
        "        self.conv_layer4 = nn.Conv2d(in_channels=64, out_channels=64, kernel_size=3, padding_mode='replicate')\n",
        "        self.max_pool2 = nn.MaxPool2d(kernel_size = 2, stride = 2)\n",
        "        \n",
        "        self.fc1 = nn.Linear(1600, 128)\n",
        "        self.relu1 = nn.ReLU()\n",
        "        self.fc2 = nn.Linear(128, num_classes)\n",
        "    \n",
        "\n",
        "    def forward(self, x):\n",
        "        out = self.conv_layer1(x)\n",
        "        out = self.conv_layer2(out)\n",
        "        out = self.max_pool1(out)\n",
        "        \n",
        "        out = self.conv_layer3(out)\n",
        "        out = self.conv_layer4(out)\n",
        "        out = self.max_pool2(out)\n",
        "                \n",
        "        out = out.reshape(out.size(0), -1)\n",
        "        \n",
        "        out = self.fc1(out)\n",
        "        out = self.relu1(out)\n",
        "        out = self.fc2(out)\n",
        "        return out\n",
        "\n",
        "\n",
        "net = Net(num_classes)"
      ]
    },
    {
      "cell_type": "code",
      "execution_count": 19,
      "metadata": {
        "id": "JIk8pWLkSgVi"
      },
      "outputs": [],
      "source": [
        "import torch.optim as optim\n",
        "\n",
        "criterion = nn.CrossEntropyLoss()\n",
        "optimizer = optim.SGD(net.parameters(), lr=learning_rate, momentum=0.9)\n",
        "\n",
        "device = torch.device('cuda' if torch.cuda.is_available() else 'cpu')"
      ]
    },
    {
      "cell_type": "code",
      "execution_count": 20,
      "metadata": {
        "colab": {
          "base_uri": "https://localhost:8080/"
        },
        "id": "jtRWIVVbSjlk",
        "outputId": "45c1787f-db67-4ae5-8e31-08d71a7cf9cc"
      },
      "outputs": [
        {
          "output_type": "stream",
          "name": "stdout",
          "text": [
            "Epoch [1/50], Loss: 4.6123\n",
            "Epoch [2/50], Loss: 4.6157\n",
            "Epoch [3/50], Loss: 4.6323\n",
            "Epoch [4/50], Loss: 4.6318\n",
            "Epoch [5/50], Loss: 4.6333\n",
            "Epoch [6/50], Loss: 4.6141\n",
            "Epoch [7/50], Loss: 4.6400\n",
            "Epoch [8/50], Loss: 4.6286\n",
            "Epoch [9/50], Loss: 4.6263\n",
            "Epoch [10/50], Loss: 4.6144\n",
            "Epoch [11/50], Loss: 4.6364\n",
            "Epoch [12/50], Loss: 4.6272\n",
            "Epoch [13/50], Loss: 4.6249\n",
            "Epoch [14/50], Loss: 4.6170\n",
            "Epoch [15/50], Loss: 4.6125\n",
            "Epoch [16/50], Loss: 4.5898\n",
            "Epoch [17/50], Loss: 4.6327\n",
            "Epoch [18/50], Loss: 4.6241\n",
            "Epoch [19/50], Loss: 4.6113\n",
            "Epoch [20/50], Loss: 4.6343\n",
            "Epoch [21/50], Loss: 4.6060\n",
            "Epoch [22/50], Loss: 4.5839\n",
            "Epoch [23/50], Loss: 4.5809\n",
            "Epoch [24/50], Loss: 4.5446\n",
            "Epoch [25/50], Loss: 4.5874\n",
            "Epoch [26/50], Loss: 4.6314\n",
            "Epoch [27/50], Loss: 4.4966\n",
            "Epoch [28/50], Loss: 4.4660\n",
            "Epoch [29/50], Loss: 4.4545\n",
            "Epoch [30/50], Loss: 4.4006\n",
            "Epoch [31/50], Loss: 4.3107\n",
            "Epoch [32/50], Loss: 4.2404\n",
            "Epoch [33/50], Loss: 4.1001\n",
            "Epoch [34/50], Loss: 4.1995\n",
            "Epoch [35/50], Loss: 3.9245\n",
            "Epoch [36/50], Loss: 3.9385\n",
            "Epoch [37/50], Loss: 3.8578\n",
            "Epoch [38/50], Loss: 4.1002\n",
            "Epoch [39/50], Loss: 3.5113\n",
            "Epoch [40/50], Loss: 3.6128\n",
            "Epoch [41/50], Loss: 3.5834\n",
            "Epoch [42/50], Loss: 3.4872\n",
            "Epoch [43/50], Loss: 3.6978\n",
            "Epoch [44/50], Loss: 3.6563\n",
            "Epoch [45/50], Loss: 3.2097\n",
            "Epoch [46/50], Loss: 3.5260\n",
            "Epoch [47/50], Loss: 3.0186\n",
            "Epoch [48/50], Loss: 3.3796\n",
            "Epoch [49/50], Loss: 2.6580\n",
            "Epoch [50/50], Loss: 3.1290\n"
          ]
        }
      ],
      "source": [
        "# We use the pre-defined number of epochs to determine how many iterations to train the network on\n",
        "for epoch in range(num_epochs):\n",
        "\t#Load in the data in batches using the train_loader object\n",
        "    for i, (images, labels) in enumerate(train_dataloader):  \n",
        "        # Move tensors to the configured device\n",
        "        images = images.to(device)\n",
        "        labels = labels.to(device)\n",
        "        \n",
        "        # Forward pass\n",
        "        outputs = net(images)\n",
        "        loss = criterion(outputs, labels)\n",
        "      \n",
        "        \n",
        "        # Backward and optimize\n",
        "        optimizer.zero_grad()\n",
        "        loss.backward()\n",
        "        optimizer.step()\n",
        "\n",
        "    print('Epoch [{}/{}], Loss: {:.4f}'.format(epoch+1, num_epochs, loss.item()))"
      ]
    },
    {
      "cell_type": "code",
      "execution_count": 22,
      "metadata": {
        "id": "m1LtvnHfmhGM",
        "colab": {
          "base_uri": "https://localhost:8080/"
        },
        "outputId": "671e6401-2363-40bc-ec1a-cc075cfdfec6"
      },
      "outputs": [
        {
          "output_type": "stream",
          "name": "stdout",
          "text": [
            "Accuracy of the network on the 6149 train images: 11.579118555862742 %\n"
          ]
        }
      ],
      "source": [
        "with torch.no_grad():\n",
        "    correct = 0\n",
        "    total = 0\n",
        "    for images, labels in test_dataloader:\n",
        "        images = images.to(device)\n",
        "        labels = labels.to(device)\n",
        "        outputs = net(images)\n",
        "        _, predicted = torch.max(outputs.data, 1)\n",
        "        total += labels.size(0)\n",
        "        correct += (predicted == labels).sum().item()\n",
        "    \n",
        "    print('Accuracy of the network on the {} train images: {} %'.format(total, 100 * correct / total))"
      ]
    }
  ],
  "metadata": {
    "colab": {
      "provenance": [],
      "authorship_tag": "ABX9TyNY/FNevpOz0XaiNfywYCXg",
      "include_colab_link": true
    },
    "kernelspec": {
      "display_name": "Python 3",
      "name": "python3"
    },
    "language_info": {
      "name": "python"
    }
  },
  "nbformat": 4,
  "nbformat_minor": 0
}