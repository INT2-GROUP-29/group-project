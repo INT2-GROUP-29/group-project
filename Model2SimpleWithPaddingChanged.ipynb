{
  "cells": [
    {
      "cell_type": "markdown",
      "metadata": {
        "id": "view-in-github",
        "colab_type": "text"
      },
      "source": [
        "<a href=\"https://colab.research.google.com/github/mistryvivek/flowers-nn-int2/blob/main/Model2SimpleWithPaddingChanged.ipynb\" target=\"_parent\"><img src=\"https://colab.research.google.com/assets/colab-badge.svg\" alt=\"Open In Colab\"/></a>"
      ]
    },
    {
      "cell_type": "code",
      "execution_count": 1,
      "metadata": {
        "id": "QsssxQAQR-zT"
      },
      "outputs": [],
      "source": [
        "import torch\n",
        "from torch import nn\n",
        "from torch.utils.data import DataLoader\n",
        "from torchvision import datasets\n",
        "import torchvision.transforms as transforms"
      ]
    },
    {
      "cell_type": "code",
      "execution_count": 2,
      "metadata": {
        "id": "ABW9S8ccRXA9",
        "outputId": "d6d474b9-25ab-4b6b-f759-b2520aa74b7c",
        "colab": {
          "base_uri": "https://localhost:8080/"
        }
      },
      "outputs": [
        {
          "output_type": "stream",
          "name": "stdout",
          "text": [
            "Downloading https://thor.robots.ox.ac.uk/datasets/flowers-102/102flowers.tgz to data/flowers-102/102flowers.tgz\n"
          ]
        },
        {
          "output_type": "stream",
          "name": "stderr",
          "text": [
            "100%|██████████| 344862509/344862509 [00:16<00:00, 21383376.36it/s]\n"
          ]
        },
        {
          "output_type": "stream",
          "name": "stdout",
          "text": [
            "Extracting data/flowers-102/102flowers.tgz to data/flowers-102\n",
            "Downloading https://thor.robots.ox.ac.uk/datasets/flowers-102/imagelabels.mat to data/flowers-102/imagelabels.mat\n"
          ]
        },
        {
          "output_type": "stream",
          "name": "stderr",
          "text": [
            "100%|██████████| 502/502 [00:00<00:00, 481266.42it/s]\n"
          ]
        },
        {
          "output_type": "stream",
          "name": "stdout",
          "text": [
            "Downloading https://thor.robots.ox.ac.uk/datasets/flowers-102/setid.mat to data/flowers-102/setid.mat\n"
          ]
        },
        {
          "output_type": "stream",
          "name": "stderr",
          "text": [
            "100%|██████████| 14989/14989 [00:00<00:00, 14272059.63it/s]\n"
          ]
        }
      ],
      "source": [
        "# Download training data from open datasets.\n",
        "training_data = datasets.Flowers102(\n",
        "    root=\"data\",\n",
        "    split=\"train\",\n",
        "    download=True,\n",
        "    transform = transforms.Compose([transforms.Resize((32, 32)), transforms.ToTensor()]),\n",
        ")\n",
        "\n",
        "# Download test data from open datasets.\n",
        "test_data = datasets.Flowers102(\n",
        "    root=\"data\",\n",
        "    split=\"test\",\n",
        "    download=True,\n",
        "    transform = transforms.Compose([transforms.Resize((32, 32)), transforms.ToTensor()]),\n",
        ")"
      ]
    },
    {
      "cell_type": "code",
      "execution_count": 3,
      "metadata": {
        "id": "qYjXE0g-RbZy"
      },
      "outputs": [],
      "source": [
        "batch_size = 30\n",
        "num_classes = 102\n",
        "learning_rate = 0.001\n",
        "num_epochs = 50\n",
        "\n",
        "# Create data loaders.\n",
        "train_dataloader = DataLoader(training_data, batch_size=batch_size)\n",
        "test_dataloader = DataLoader(test_data, batch_size=batch_size)"
      ]
    },
    {
      "cell_type": "code",
      "execution_count": 4,
      "metadata": {
        "id": "3lFiq2X8SEdB"
      },
      "outputs": [],
      "source": [
        "import torch.nn.functional as F\n",
        "\n",
        "class Net(nn.Module):\n",
        "\t#  Determine what layers and their order in CNN object \n",
        "    def __init__(self, num_classes):\n",
        "        super(Net, self).__init__()\n",
        "        self.conv_layer1 = nn.Conv2d(in_channels=3, out_channels=32, kernel_size=3, padding_mode='replicate')\n",
        "        self.conv_layer2 = nn.Conv2d(in_channels=32, out_channels=32, kernel_size=3, padding_mode='replicate')\n",
        "        self.max_pool1 = nn.MaxPool2d(kernel_size = 2, stride = 2)\n",
        "        \n",
        "        self.conv_layer3 = nn.Conv2d(in_channels=32, out_channels=64, kernel_size=3, padding_mode='replicate')\n",
        "        self.conv_layer4 = nn.Conv2d(in_channels=64, out_channels=64, kernel_size=3, padding_mode='replicate')\n",
        "        self.max_pool2 = nn.MaxPool2d(kernel_size = 2, stride = 2)\n",
        "        \n",
        "        self.fc1 = nn.Linear(1600, 128)\n",
        "        self.relu1 = nn.ReLU()\n",
        "        self.fc2 = nn.Linear(128, num_classes)\n",
        "    \n",
        "\n",
        "    def forward(self, x):\n",
        "        out = self.conv_layer1(x)\n",
        "        out = self.conv_layer2(out)\n",
        "        out = self.max_pool1(out)\n",
        "        \n",
        "        out = self.conv_layer3(out)\n",
        "        out = self.conv_layer4(out)\n",
        "        out = self.max_pool2(out)\n",
        "                \n",
        "        out = out.reshape(out.size(0), -1)\n",
        "        \n",
        "        out = self.fc1(out)\n",
        "        out = self.relu1(out)\n",
        "        out = self.fc2(out)\n",
        "        return out\n",
        "\n",
        "\n",
        "net = Net(num_classes)"
      ]
    },
    {
      "cell_type": "code",
      "execution_count": 5,
      "metadata": {
        "id": "JIk8pWLkSgVi"
      },
      "outputs": [],
      "source": [
        "import torch.optim as optim\n",
        "\n",
        "criterion = nn.CrossEntropyLoss()\n",
        "optimizer = optim.SGD(net.parameters(), lr=learning_rate, momentum=0.9)\n",
        "\n",
        "device = torch.device('cuda' if torch.cuda.is_available() else 'cpu')"
      ]
    },
    {
      "cell_type": "code",
      "execution_count": 6,
      "metadata": {
        "colab": {
          "base_uri": "https://localhost:8080/"
        },
        "id": "jtRWIVVbSjlk",
        "outputId": "26bf6819-13c2-46ce-ba76-036e4888b508"
      },
      "outputs": [
        {
          "output_type": "stream",
          "name": "stdout",
          "text": [
            "Epoch [1/50], Loss: 4.6331\n",
            "Epoch [2/50], Loss: 4.6333\n",
            "Epoch [3/50], Loss: 4.6337\n",
            "Epoch [4/50], Loss: 4.6340\n",
            "Epoch [5/50], Loss: 4.6337\n",
            "Epoch [6/50], Loss: 4.6337\n",
            "Epoch [7/50], Loss: 4.6339\n",
            "Epoch [8/50], Loss: 4.6338\n",
            "Epoch [9/50], Loss: 4.6336\n",
            "Epoch [10/50], Loss: 4.6333\n",
            "Epoch [11/50], Loss: 4.6328\n",
            "Epoch [12/50], Loss: 4.6323\n",
            "Epoch [13/50], Loss: 4.6315\n",
            "Epoch [14/50], Loss: 4.6305\n",
            "Epoch [15/50], Loss: 4.6293\n",
            "Epoch [16/50], Loss: 4.6277\n",
            "Epoch [17/50], Loss: 4.6262\n",
            "Epoch [18/50], Loss: 4.6243\n",
            "Epoch [19/50], Loss: 4.6219\n",
            "Epoch [20/50], Loss: 4.6190\n",
            "Epoch [21/50], Loss: 4.6153\n",
            "Epoch [22/50], Loss: 4.6109\n",
            "Epoch [23/50], Loss: 4.6045\n",
            "Epoch [24/50], Loss: 4.5967\n",
            "Epoch [25/50], Loss: 4.5840\n",
            "Epoch [26/50], Loss: 4.5666\n",
            "Epoch [27/50], Loss: 4.5381\n",
            "Epoch [28/50], Loss: 4.4885\n",
            "Epoch [29/50], Loss: 4.4320\n",
            "Epoch [30/50], Loss: 4.3847\n",
            "Epoch [31/50], Loss: 4.3537\n",
            "Epoch [32/50], Loss: 4.3063\n",
            "Epoch [33/50], Loss: 4.2512\n",
            "Epoch [34/50], Loss: 4.2006\n",
            "Epoch [35/50], Loss: 4.1315\n",
            "Epoch [36/50], Loss: 3.5351\n",
            "Epoch [37/50], Loss: 4.4515\n",
            "Epoch [38/50], Loss: 4.2761\n",
            "Epoch [39/50], Loss: 4.2252\n",
            "Epoch [40/50], Loss: 4.1373\n",
            "Epoch [41/50], Loss: 4.1230\n",
            "Epoch [42/50], Loss: 4.1131\n",
            "Epoch [43/50], Loss: 4.1108\n",
            "Epoch [44/50], Loss: 4.0746\n",
            "Epoch [45/50], Loss: 4.0220\n",
            "Epoch [46/50], Loss: 3.9947\n",
            "Epoch [47/50], Loss: 3.9407\n",
            "Epoch [48/50], Loss: 3.9232\n",
            "Epoch [49/50], Loss: 3.9065\n",
            "Epoch [50/50], Loss: 3.7812\n"
          ]
        }
      ],
      "source": [
        "# We use the pre-defined number of epochs to determine how many iterations to train the network on\n",
        "for epoch in range(num_epochs):\n",
        "\t#Load in the data in batches using the train_loader object\n",
        "    for i, (images, labels) in enumerate(train_dataloader):  \n",
        "        # Move tensors to the configured device\n",
        "        images = images.to(device)\n",
        "        labels = labels.to(device)\n",
        "        \n",
        "        # Forward pass\n",
        "        outputs = net(images)\n",
        "        loss = criterion(outputs, labels)\n",
        "      \n",
        "        \n",
        "        # Backward and optimize\n",
        "        optimizer.zero_grad()\n",
        "        loss.backward()\n",
        "        optimizer.step()\n",
        "\n",
        "    print('Epoch [{}/{}], Loss: {:.4f}'.format(epoch+1, num_epochs, loss.item()))"
      ]
    },
    {
      "cell_type": "code",
      "execution_count": 7,
      "metadata": {
        "id": "m1LtvnHfmhGM",
        "colab": {
          "base_uri": "https://localhost:8080/"
        },
        "outputId": "e92f4874-ffcc-4db8-e71b-78285af0f18b"
      },
      "outputs": [
        {
          "output_type": "stream",
          "name": "stdout",
          "text": [
            "Accuracy of the network on the 6149 train images: 9.383639616197756 %\n"
          ]
        }
      ],
      "source": [
        "with torch.no_grad():\n",
        "    correct = 0\n",
        "    total = 0\n",
        "    for images, labels in test_dataloader:\n",
        "        images = images.to(device)\n",
        "        labels = labels.to(device)\n",
        "        outputs = net(images)\n",
        "        _, predicted = torch.max(outputs.data, 1)\n",
        "        total += labels.size(0)\n",
        "        correct += (predicted == labels).sum().item()\n",
        "    \n",
        "    print('Accuracy of the network on the {} train images: {} %'.format(total, 100 * correct / total))"
      ]
    },
    {
      "cell_type": "code",
      "source": [],
      "metadata": {
        "id": "V_fyB4usjjdW"
      },
      "execution_count": null,
      "outputs": []
    }
  ],
  "metadata": {
    "colab": {
      "provenance": [],
      "authorship_tag": "ABX9TyONLFalZ4VIpWAFVyN40/qQ",
      "include_colab_link": true
    },
    "kernelspec": {
      "display_name": "Python 3",
      "name": "python3"
    },
    "language_info": {
      "name": "python"
    }
  },
  "nbformat": 4,
  "nbformat_minor": 0
}