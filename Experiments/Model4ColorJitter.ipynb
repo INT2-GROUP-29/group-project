{
 "cells": [
  {
   "cell_type": "code",
   "execution_count": 1,
   "metadata": {
    "id": "q-j3b_Sx4Tb9"
   },
   "outputs": [],
   "source": [
    "import torch\n",
    "from torch import nn\n",
    "from torch.utils.data import DataLoader\n",
    "from torchvision import datasets\n",
    "import torchvision.transforms as transforms"
   ]
  },
  {
   "cell_type": "code",
   "execution_count": 2,
   "metadata": {
    "colab": {
     "base_uri": "https://localhost:8080/"
    },
    "id": "Be731vWl4Wj1",
    "outputId": "0af896bf-6a78-406b-ada2-fa9130f87b5d"
   },
   "outputs": [
    {
     "name": "stdout",
     "output_type": "stream",
     "text": [
      "Downloading https://thor.robots.ox.ac.uk/datasets/flowers-102/102flowers.tgz to data\\flowers-102\\102flowers.tgz\n"
     ]
    },
    {
     "name": "stderr",
     "output_type": "stream",
     "text": [
      "100%|████████████████████████████████████████████████████████████████| 344862509/344862509 [07:45<00:00, 740217.05it/s]\n"
     ]
    },
    {
     "name": "stdout",
     "output_type": "stream",
     "text": [
      "Extracting data\\flowers-102\\102flowers.tgz to data\\flowers-102\n",
      "Downloading https://thor.robots.ox.ac.uk/datasets/flowers-102/imagelabels.mat to data\\flowers-102\\imagelabels.mat\n"
     ]
    },
    {
     "name": "stderr",
     "output_type": "stream",
     "text": [
      "100%|████████████████████████████████████████████████████████████████████████████| 502/502 [00:00<00:00, 495304.78it/s]\n"
     ]
    },
    {
     "name": "stdout",
     "output_type": "stream",
     "text": [
      "Downloading https://thor.robots.ox.ac.uk/datasets/flowers-102/setid.mat to data\\flowers-102\\setid.mat\n"
     ]
    },
    {
     "name": "stderr",
     "output_type": "stream",
     "text": [
      "100%|███████████████████████████████████████████████████████████████████████| 14989/14989 [00:00<00:00, 4996298.39it/s]\n"
     ]
    }
   ],
   "source": [
    "# Download training data from open datasets.\n",
    "# Guassian blur - how to do: RESEARCH\n",
    "training_data = datasets.Flowers102(\n",
    "    root=\"data\",\n",
    "    split=\"train\",\n",
    "    download=True,\n",
    "    transform = transforms.Compose([transforms.Resize((64, 64)), transforms.ToTensor(), transforms.RandomHorizontalFlip(),\n",
    "                                    transforms.Normalize((0.4914, 0.4822, 0.4465), (0.2023, 0.1994, 0.2010)),\n",
    "                                    transforms.RandomVerticalFlip(), transforms.RandomRotation(45),\n",
    "                                    transforms.ColorJitter(brightness=(0.5,1.5),contrast=(1),saturation=(0.5,1.5),hue=(-0.1,0.1))])\n",
    "    \n",
    ")\n",
    "\n",
    "# Download test data from open datasets.\n",
    "test_data = datasets.Flowers102(\n",
    "    root=\"data\",\n",
    "    split=\"test\",\n",
    "    download=True,\n",
    "    transform = transforms.Compose([transforms.Resize((64, 64)), transforms.ToTensor(),\n",
    "                                   transforms.Normalize((0.4914, 0.4822, 0.4465), (0.2023, 0.1994, 0.2010))]),\n",
    ")\n",
    "\n",
    "# Download test data from open datasets.\n",
    "test_data = datasets.Flowers102(\n",
    "    root=\"data\",\n",
    "    split=\"val\",\n",
    "    download=True,\n",
    "    transform = transforms.Compose([transforms.Resize((64, 64)), transforms.ToTensor(),\n",
    "                                   transforms.Normalize((0.4914, 0.4822, 0.4465), (0.2023, 0.1994, 0.2010))]),\n",
    ")"
   ]
  },
  {
   "cell_type": "code",
   "execution_count": 3,
   "metadata": {
    "id": "9QtjhkqE4ar5"
   },
   "outputs": [],
   "source": [
    "batch_size = 32\n",
    "num_classes = 102\n",
    "learning_rate = 0.001\n",
    "num_epochs = 100\n",
    "\n",
    "# Create data loaders.\n",
    "train_dataloader = DataLoader(training_data, batch_size=batch_size, shuffle=True)\n",
    "test_dataloader = DataLoader(test_data, batch_size=batch_size)"
   ]
  },
  {
   "cell_type": "code",
   "execution_count": 4,
   "metadata": {
    "id": "zuLLmf1t4b82"
   },
   "outputs": [],
   "source": [
    "import torch.nn.functional as F\n",
    "import os\n",
    "\n",
    "class Net(nn.Module):\n",
    "\t#  Determine what layers and their order in CNN object \n",
    "    def __init__(self, num_classes):\n",
    "        super(Net, self).__init__()\n",
    "        self.conv_layer1 = nn.Conv2d(in_channels=3, out_channels=64, kernel_size=3)\n",
    "        self.conv_layer2 = nn.Conv2d(in_channels=64, out_channels=128, kernel_size=3)\n",
    "        self.batch_layer1 = nn.BatchNorm2d(num_features=128) \n",
    "        self.max_pool1 = nn.MaxPool2d(kernel_size = 2, stride = 2)\n",
    "        \n",
    "        self.conv_layer3 = nn.Conv2d(in_channels=128, out_channels=512, kernel_size=3)\n",
    "        self.conv_layer4 = nn.Conv2d(in_channels=512, out_channels=512, kernel_size=3)\n",
    "        self.batch_layer2 = nn.BatchNorm2d(num_features=512)\n",
    "        self.max_pool2 = nn.MaxPool2d(kernel_size = 2, stride = 2)\n",
    "\n",
    "        self.conv_layer5 = nn.Conv2d(in_channels=512, out_channels=512, kernel_size=3)\n",
    "        self.conv_layer6 = nn.Conv2d(in_channels=512, out_channels=512, kernel_size=3)\n",
    "        self.batch_layer3 = nn.BatchNorm2d(num_features=512)\n",
    "        self.max_pool3 = nn.MaxPool2d(kernel_size = 2, stride = 2)\n",
    "\n",
    "        self.fc1 = nn.Linear(8192, 128)\n",
    "        self.relu1 = nn.ReLU()\n",
    "        self.fc2 = nn.Linear(128, num_classes)\n",
    "    \n",
    "\n",
    "    def forward(self, x):\n",
    "        out = self.relu1(self.conv_layer1(x))\n",
    "        out = self.relu1(self.conv_layer2(out))\n",
    "        out = self.batch_layer1(out)\n",
    "        out = self.max_pool1(out)\n",
    "        \n",
    "        out = self.relu1(self.conv_layer3(out))\n",
    "        out = self.relu1(self.conv_layer4(out))\n",
    "        out = self.batch_layer2(out)\n",
    "        out = self.max_pool2(out)\n",
    "\n",
    "        out = self.relu1(self.conv_layer5(out))\n",
    "        out = self.relu1(self.conv_layer6(out))\n",
    "        out = self.batch_layer3(out)\n",
    "        out = self.max_pool3(out)\n",
    "                \n",
    "        out = out.reshape(out.size(0), -1)\n",
    "        \n",
    "        out = self.fc1(out)\n",
    "        out = self.relu1(out)\n",
    "        out = self.fc2(out)\n",
    "        return out\n",
    "\n",
    "net = Net(num_classes)\n",
    "\n",
    "def save_network(network, epoch_label):\n",
    "    save_filename = 'net_%s.pth' % epoch_label\n",
    "    save_path = os.path.join(save_filename)\n",
    "    torch.save(network.state_dict(), save_path)\n",
    "    \n",
    "def testValidationData(network):\n",
    "    net.eval()\n",
    "    with torch.no_grad():\n",
    "        correct = 0\n",
    "        total = 0\n",
    "        for images, labels in test_dataloader:\n",
    "            images = images.to(device)\n",
    "            labels = labels.to(device)\n",
    "            outputs = net(images)\n",
    "            _, predicted = torch.max(outputs.data, 1)\n",
    "            total += labels.size(0)\n",
    "            correct += (predicted == labels).sum().item()\n",
    "        return (100 * correct / total)"
   ]
  },
  {
   "cell_type": "code",
   "execution_count": 5,
   "metadata": {
    "id": "j1nVfQzO4zNS"
   },
   "outputs": [],
   "source": [
    "import torch.optim as optim\n",
    "\n",
    "criterion = nn.CrossEntropyLoss()\n",
    "optimizer = optim.SGD(net.parameters(), lr=learning_rate, momentum=0.9)\n",
    "\n",
    "device = torch.device('cuda' if torch.cuda.is_available() else 'cpu')"
   ]
  },
  {
   "cell_type": "code",
   "execution_count": 6,
   "metadata": {
    "id": "5-Ag8ogm4za3",
    "scrolled": false
   },
   "outputs": [
    {
     "name": "stdout",
     "output_type": "stream",
     "text": [
      "SAVE COMPLETE NEW ACC: 1.7647058823529411\n",
      "Epoch [1/100], Loss: 4.5848\n",
      "SAVE COMPLETE NEW ACC: 2.549019607843137\n",
      "Epoch [2/100], Loss: 4.6265\n",
      "SAVE COMPLETE NEW ACC: 2.7450980392156863\n",
      "Epoch [3/100], Loss: 4.4651\n",
      "SAVE COMPLETE NEW ACC: 3.3333333333333335\n",
      "Epoch [4/100], Loss: 4.3017\n",
      "Epoch [5/100], Loss: 4.4706\n",
      "Epoch [6/100], Loss: 4.3768\n",
      "Epoch [7/100], Loss: 4.0852\n",
      "SAVE COMPLETE NEW ACC: 4.215686274509804\n",
      "Epoch [8/100], Loss: 4.3515\n",
      "Epoch [9/100], Loss: 4.1079\n",
      "Epoch [10/100], Loss: 3.9945\n",
      "Epoch [11/100], Loss: 3.7939\n",
      "SAVE COMPLETE NEW ACC: 4.705882352941177\n",
      "Epoch [12/100], Loss: 3.8626\n",
      "Epoch [13/100], Loss: 3.9433\n",
      "SAVE COMPLETE NEW ACC: 7.1568627450980395\n",
      "Epoch [14/100], Loss: 3.8855\n",
      "SAVE COMPLETE NEW ACC: 7.647058823529412\n",
      "Epoch [15/100], Loss: 3.2688\n",
      "Epoch [16/100], Loss: 3.8788\n",
      "Epoch [17/100], Loss: 3.5363\n",
      "Epoch [18/100], Loss: 3.5812\n",
      "Epoch [19/100], Loss: 3.7312\n",
      "SAVE COMPLETE NEW ACC: 8.627450980392156\n",
      "Epoch [20/100], Loss: 3.1125\n",
      "Epoch [21/100], Loss: 3.6295\n",
      "Epoch [22/100], Loss: 3.1426\n",
      "SAVE COMPLETE NEW ACC: 11.666666666666666\n",
      "Epoch [23/100], Loss: 3.3736\n",
      "SAVE COMPLETE NEW ACC: 14.019607843137255\n",
      "Epoch [24/100], Loss: 3.5697\n",
      "Epoch [25/100], Loss: 3.4196\n",
      "Epoch [26/100], Loss: 3.7199\n",
      "Epoch [27/100], Loss: 3.6795\n",
      "Epoch [28/100], Loss: 3.3465\n",
      "Epoch [29/100], Loss: 2.8507\n",
      "Epoch [30/100], Loss: 3.2588\n",
      "Epoch [31/100], Loss: 3.1421\n",
      "Epoch [32/100], Loss: 2.8329\n",
      "Epoch [33/100], Loss: 3.1372\n",
      "Epoch [34/100], Loss: 2.6663\n",
      "Epoch [35/100], Loss: 2.8487\n",
      "Epoch [36/100], Loss: 2.4703\n",
      "Epoch [37/100], Loss: 3.5576\n",
      "SAVE COMPLETE NEW ACC: 16.07843137254902\n",
      "Epoch [38/100], Loss: 1.9739\n",
      "SAVE COMPLETE NEW ACC: 17.647058823529413\n",
      "Epoch [39/100], Loss: 2.4074\n",
      "Epoch [40/100], Loss: 2.9298\n",
      "Epoch [41/100], Loss: 3.1237\n",
      "Epoch [42/100], Loss: 2.2390\n",
      "Epoch [43/100], Loss: 1.8891\n",
      "Epoch [44/100], Loss: 2.4720\n",
      "Epoch [45/100], Loss: 2.3068\n",
      "SAVE COMPLETE NEW ACC: 17.745098039215687\n",
      "Epoch [46/100], Loss: 2.4575\n",
      "Epoch [47/100], Loss: 2.2947\n",
      "SAVE COMPLETE NEW ACC: 19.50980392156863\n",
      "Epoch [48/100], Loss: 1.9344\n",
      "Epoch [49/100], Loss: 2.3295\n",
      "Epoch [50/100], Loss: 2.1895\n",
      "Epoch [51/100], Loss: 2.8222\n",
      "SAVE COMPLETE NEW ACC: 20.0\n",
      "Epoch [52/100], Loss: 2.2292\n",
      "Epoch [53/100], Loss: 2.1294\n",
      "Epoch [54/100], Loss: 2.1165\n",
      "SAVE COMPLETE NEW ACC: 22.254901960784313\n",
      "Epoch [55/100], Loss: 2.0715\n",
      "Epoch [56/100], Loss: 2.6335\n",
      "Epoch [57/100], Loss: 1.8682\n",
      "Epoch [58/100], Loss: 1.9280\n",
      "Epoch [59/100], Loss: 1.9682\n",
      "Epoch [60/100], Loss: 1.9548\n",
      "Epoch [61/100], Loss: 2.1437\n",
      "Epoch [62/100], Loss: 2.0734\n",
      "Epoch [63/100], Loss: 1.5929\n",
      "Epoch [64/100], Loss: 2.2225\n",
      "SAVE COMPLETE NEW ACC: 22.647058823529413\n",
      "Epoch [65/100], Loss: 2.1329\n",
      "Epoch [66/100], Loss: 1.2260\n",
      "SAVE COMPLETE NEW ACC: 23.529411764705884\n",
      "Epoch [67/100], Loss: 1.5948\n",
      "SAVE COMPLETE NEW ACC: 24.41176470588235\n",
      "Epoch [68/100], Loss: 1.7154\n",
      "SAVE COMPLETE NEW ACC: 25.19607843137255\n",
      "Epoch [69/100], Loss: 1.5659\n",
      "Epoch [70/100], Loss: 1.3794\n",
      "Epoch [71/100], Loss: 1.8637\n",
      "Epoch [72/100], Loss: 1.3734\n",
      "Epoch [73/100], Loss: 1.2408\n",
      "Epoch [74/100], Loss: 1.8014\n",
      "Epoch [75/100], Loss: 1.4155\n",
      "Epoch [76/100], Loss: 1.3433\n",
      "Epoch [77/100], Loss: 1.2028\n",
      "Epoch [78/100], Loss: 2.1512\n",
      "SAVE COMPLETE NEW ACC: 25.784313725490197\n",
      "Epoch [79/100], Loss: 1.4454\n",
      "Epoch [80/100], Loss: 1.2784\n",
      "Epoch [81/100], Loss: 0.6070\n",
      "SAVE COMPLETE NEW ACC: 25.980392156862745\n",
      "Epoch [82/100], Loss: 1.9496\n",
      "Epoch [83/100], Loss: 1.4358\n",
      "SAVE COMPLETE NEW ACC: 26.764705882352942\n",
      "Epoch [84/100], Loss: 1.1144\n",
      "Epoch [85/100], Loss: 1.5964\n",
      "Epoch [86/100], Loss: 0.7918\n",
      "Epoch [87/100], Loss: 1.8157\n",
      "SAVE COMPLETE NEW ACC: 27.15686274509804\n",
      "Epoch [88/100], Loss: 0.8848\n",
      "Epoch [89/100], Loss: 0.8035\n",
      "Epoch [90/100], Loss: 1.7466\n",
      "Epoch [91/100], Loss: 1.0213\n",
      "SAVE COMPLETE NEW ACC: 28.03921568627451\n",
      "Epoch [92/100], Loss: 0.9247\n",
      "SAVE COMPLETE NEW ACC: 28.529411764705884\n",
      "Epoch [93/100], Loss: 1.3758\n",
      "Epoch [94/100], Loss: 0.7642\n",
      "Epoch [95/100], Loss: 0.7446\n",
      "Epoch [96/100], Loss: 0.9284\n",
      "Epoch [97/100], Loss: 0.8226\n",
      "Epoch [98/100], Loss: 1.0103\n",
      "Epoch [99/100], Loss: 0.5453\n",
      "SAVE COMPLETE NEW ACC: 28.627450980392158\n",
      "Epoch [100/100], Loss: 0.9565\n"
     ]
    }
   ],
   "source": [
    "saveCounter = 0\n",
    "minLoss = 10000\n",
    "valAccurary = 0\n",
    "\n",
    "# We use the pre-defined number of epochs to determine how many iterations to train the network on\n",
    "for epoch in range(num_epochs):\n",
    "\t#Load in the data in batches using the train_loader object\n",
    "    for i, (images, labels) in enumerate(train_dataloader):  \n",
    "        # Move tensors to the configured device\n",
    "        images = images.to(device)\n",
    "        labels = labels.to(device)\n",
    "        \n",
    "        # Forward pass\n",
    "        outputs = net(images)\n",
    "        loss = criterion(outputs, labels)\n",
    "      \n",
    "        \n",
    "        # Backward and optimize\n",
    "        optimizer.zero_grad()\n",
    "        loss.backward()\n",
    "        optimizer.step()\n",
    "\n",
    "    if minLoss > loss:\n",
    "        tempAcc = testValidationData(net)\n",
    "        if tempAcc > valAccurary:\n",
    "            valAccurary = tempAcc\n",
    "            saveCounter += 1\n",
    "            save_network(net, saveCounter)\n",
    "            print(\"SAVE COMPLETE NEW ACC:\", valAccurary)\n",
    "\n",
    "    print('Epoch [{}/{}], Loss: {:.4f}'.format(epoch+1, num_epochs, loss.item()))"
   ]
  },
  {
   "cell_type": "code",
   "execution_count": 7,
   "metadata": {
    "id": "BsUH3Yfv47K6"
   },
   "outputs": [
    {
     "name": "stdout",
     "output_type": "stream",
     "text": [
      "Accuracy of the network on the 1020 train images: 28.627450980392158 %\n"
     ]
    }
   ],
   "source": [
    "net.eval()\n",
    "\n",
    "with torch.no_grad():\n",
    "    correct = 0\n",
    "    total = 0\n",
    "    for images, labels in test_dataloader:\n",
    "        images = images.to(device)\n",
    "        labels = labels.to(device)\n",
    "        outputs = net(images)\n",
    "        _, predicted = torch.max(outputs.data, 1)\n",
    "        total += labels.size(0)\n",
    "        correct += (predicted == labels).sum().item()\n",
    "    \n",
    "    print('Accuracy of the network on the {} train images: {} %'.format(total, 100 * correct / total))"
   ]
  },
  {
   "cell_type": "code",
   "execution_count": 8,
   "metadata": {},
   "outputs": [],
   "source": [
    "save_network(net, \"LASTEPOCH\")"
   ]
  },
  {
   "cell_type": "code",
   "execution_count": null,
   "metadata": {},
   "outputs": [],
   "source": []
  }
 ],
 "metadata": {
  "colab": {
   "provenance": []
  },
  "kernelspec": {
   "display_name": "Python 3 (ipykernel)",
   "language": "python",
   "name": "python3"
  },
  "language_info": {
   "codemirror_mode": {
    "name": "ipython",
    "version": 3
   },
   "file_extension": ".py",
   "mimetype": "text/x-python",
   "name": "python",
   "nbconvert_exporter": "python",
   "pygments_lexer": "ipython3",
   "version": "3.9.13"
  }
 },
 "nbformat": 4,
 "nbformat_minor": 1
}
