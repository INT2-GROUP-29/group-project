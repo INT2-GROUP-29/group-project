{
 "cells": [
  {
   "cell_type": "code",
   "execution_count": 1,
   "metadata": {
    "id": "q-j3b_Sx4Tb9"
   },
   "outputs": [],
   "source": [
    "import torch\n",
    "from torch import nn\n",
    "from torch.utils.data import DataLoader\n",
    "from torchvision import datasets\n",
    "import torchvision.transforms as transforms"
   ]
  },
  {
   "cell_type": "code",
   "execution_count": 2,
   "metadata": {
    "colab": {
     "base_uri": "https://localhost:8080/"
    },
    "id": "Be731vWl4Wj1",
    "outputId": "05271113-8f4b-42c5-84b7-00852bc176dc"
   },
   "outputs": [
    {
     "name": "stdout",
     "output_type": "stream",
     "text": [
      "Downloading https://thor.robots.ox.ac.uk/datasets/flowers-102/102flowers.tgz to data\\flowers-102\\102flowers.tgz\n"
     ]
    },
    {
     "name": "stderr",
     "output_type": "stream",
     "text": [
      "100%|████████████████████████████████████████████████████████████████| 344862509/344862509 [08:02<00:00, 715113.73it/s]\n"
     ]
    },
    {
     "name": "stdout",
     "output_type": "stream",
     "text": [
      "Extracting data\\flowers-102\\102flowers.tgz to data\\flowers-102\n",
      "Downloading https://thor.robots.ox.ac.uk/datasets/flowers-102/imagelabels.mat to data\\flowers-102\\imagelabels.mat\n"
     ]
    },
    {
     "name": "stderr",
     "output_type": "stream",
     "text": [
      "100%|████████████████████████████████████████████████████████████████████████████| 502/502 [00:00<00:00, 210175.74it/s]\n"
     ]
    },
    {
     "name": "stdout",
     "output_type": "stream",
     "text": [
      "Downloading https://thor.robots.ox.ac.uk/datasets/flowers-102/setid.mat to data\\flowers-102\\setid.mat\n"
     ]
    },
    {
     "name": "stderr",
     "output_type": "stream",
     "text": [
      "100%|███████████████████████████████████████████████████████████████████████| 14989/14989 [00:00<00:00, 7491470.76it/s]\n"
     ]
    }
   ],
   "source": [
    "# Download training data from open datasets.\n",
    "# Guassian blur - how to do: RESEARCH\n",
    "training_data = datasets.Flowers102(\n",
    "    root=\"data\",\n",
    "    split=\"train\",\n",
    "    download=True,\n",
    "    transform = transforms.Compose([transforms.Resize((64, 64)), transforms.ToTensor(), transforms.RandomHorizontalFlip(),\n",
    "                                    transforms.Normalize((0.4914, 0.4822, 0.4465), (0.2023, 0.1994, 0.2010)),\n",
    "                                    transforms.RandomVerticalFlip(), transforms.RandomRotation(45)])\n",
    "    \n",
    ")\n",
    "\n",
    "# Download test data from open datasets.\n",
    "test_data = datasets.Flowers102(\n",
    "    root=\"data\",\n",
    "    split=\"test\",\n",
    "    download=True,\n",
    "    transform = transforms.Compose([transforms.Resize((64, 64)), transforms.ToTensor(),\n",
    "                                   transforms.Normalize((0.4914, 0.4822, 0.4465), (0.2023, 0.1994, 0.2010))]),\n",
    ")\n",
    "\n",
    "# Download test data from open datasets.\n",
    "test_data = datasets.Flowers102(\n",
    "    root=\"data\",\n",
    "    split=\"val\",\n",
    "    download=True,\n",
    "    transform = transforms.Compose([transforms.Resize((64, 64)), transforms.ToTensor(),\n",
    "                                   transforms.Normalize((0.4914, 0.4822, 0.4465), (0.2023, 0.1994, 0.2010))]),\n",
    ")"
   ]
  },
  {
   "cell_type": "code",
   "execution_count": 3,
   "metadata": {
    "id": "9QtjhkqE4ar5"
   },
   "outputs": [],
   "source": [
    "batch_size = 32\n",
    "num_classes = 102\n",
    "learning_rate = 0.001\n",
    "num_epochs = 100\n",
    "\n",
    "# Create data loaders.\n",
    "train_dataloader = DataLoader(training_data, batch_size=batch_size, shuffle=True)\n",
    "test_dataloader = DataLoader(test_data, batch_size=batch_size)"
   ]
  },
  {
   "cell_type": "code",
   "execution_count": 4,
   "metadata": {
    "id": "zuLLmf1t4b82"
   },
   "outputs": [],
   "source": [
    "import torch.nn.functional as F\n",
    "import os\n",
    "\n",
    "class Net(nn.Module):\n",
    "\t#  Determine what layers and their order in CNN object \n",
    "    def __init__(self, num_classes):\n",
    "        super(Net, self).__init__()\n",
    "        self.conv_layer1 = nn.Conv2d(in_channels=3, out_channels=64, kernel_size=3)\n",
    "        self.conv_layer2 = nn.Conv2d(in_channels=64, out_channels=128, kernel_size=3)\n",
    "        self.batch_layer1 = nn.BatchNorm2d(num_features=128) \n",
    "        self.max_pool1 = nn.MaxPool2d(kernel_size = 2, stride = 2)\n",
    "        \n",
    "        self.conv_layer3 = nn.Conv2d(in_channels=128, out_channels=512, kernel_size=3)\n",
    "        self.conv_layer4 = nn.Conv2d(in_channels=512, out_channels=512, kernel_size=3)\n",
    "        self.batch_layer2 = nn.BatchNorm2d(num_features=512)\n",
    "        self.max_pool2 = nn.MaxPool2d(kernel_size = 2, stride = 2)\n",
    "\n",
    "        self.conv_layer5 = nn.Conv2d(in_channels=512, out_channels=512, kernel_size=3)\n",
    "        self.conv_layer6 = nn.Conv2d(in_channels=512, out_channels=512, kernel_size=3)\n",
    "        self.batch_layer3 = nn.BatchNorm2d(num_features=512)\n",
    "        self.max_pool3 = nn.MaxPool2d(kernel_size = 1, stride = 2)\n",
    "        \n",
    "        self.conv_layer7 = nn.Conv2d(in_channels=512, out_channels=512, kernel_size=3)\n",
    "        self.conv_layer8 = nn.Conv2d(in_channels=512, out_channels=512, kernel_size=3)\n",
    "        self.batch_layer4 = nn.BatchNorm2d(num_features=512)\n",
    "        self.max_pool4 = nn.MaxPool2d(kernel_size = 1, stride = 2)\n",
    "\n",
    "        self.fc1 = nn.Linear(512, 128)\n",
    "        self.relu1 = nn.ReLU()\n",
    "        self.fc2 = nn.Linear(128, num_classes)\n",
    "    \n",
    "\n",
    "    def forward(self, x):\n",
    "        out = self.relu1(self.conv_layer1(x))\n",
    "        out = self.relu1(self.conv_layer2(out))\n",
    "        out = self.batch_layer1(out)\n",
    "        out = self.max_pool1(out)\n",
    "        \n",
    "        out = self.relu1(self.conv_layer3(out))\n",
    "        out = self.relu1(self.conv_layer4(out))\n",
    "        out = self.batch_layer2(out)\n",
    "        out = self.max_pool2(out)\n",
    "\n",
    "        out = self.relu1(self.conv_layer5(out))\n",
    "        out = self.relu1(self.conv_layer6(out))\n",
    "        out = self.batch_layer3(out)\n",
    "        out = self.max_pool3(out)\n",
    "        \n",
    "        out = self.relu1(self.conv_layer7(out))\n",
    "        out = self.relu1(self.conv_layer8(out))\n",
    "        out = self.batch_layer4(out)\n",
    "        out = self.max_pool4(out)\n",
    "                \n",
    "        out = out.reshape(out.size(0), -1)\n",
    "        \n",
    "        out = self.fc1(out)\n",
    "        out = self.relu1(out)\n",
    "        out = self.fc2(out)\n",
    "        return out\n",
    "\n",
    "net = Net(num_classes)\n",
    "\n",
    "def save_network(network, epoch_label):\n",
    "    save_filename = 'net_%s.pth' % epoch_label\n",
    "    save_path = os.path.join(save_filename)\n",
    "    torch.save(network.state_dict(), save_path)\n",
    "    \n",
    "def testValidationData(network):\n",
    "    net.eval()\n",
    "    with torch.no_grad():\n",
    "        correct = 0\n",
    "        total = 0\n",
    "        for images, labels in test_dataloader:\n",
    "            images = images.to(device)\n",
    "            labels = labels.to(device)\n",
    "            outputs = net(images)\n",
    "            _, predicted = torch.max(outputs.data, 1)\n",
    "            total += labels.size(0)\n",
    "            correct += (predicted == labels).sum().item()\n",
    "        return (100 * correct / total)"
   ]
  },
  {
   "cell_type": "code",
   "execution_count": 5,
   "metadata": {
    "id": "j1nVfQzO4zNS"
   },
   "outputs": [],
   "source": [
    "import torch.optim as optim\n",
    "\n",
    "criterion = nn.CrossEntropyLoss()\n",
    "optimizer = optim.SGD(net.parameters(), lr=learning_rate, momentum=0.9)\n",
    "\n",
    "device = torch.device('cuda' if torch.cuda.is_available() else 'cpu')"
   ]
  },
  {
   "cell_type": "code",
   "execution_count": 6,
   "metadata": {
    "id": "5-Ag8ogm4za3",
    "scrolled": false
   },
   "outputs": [
    {
     "name": "stdout",
     "output_type": "stream",
     "text": [
      "SAVE COMPLETE NEW ACC: 2.9411764705882355\n",
      "Epoch [1/100], Loss: 4.5743\n",
      "SAVE COMPLETE NEW ACC: 4.803921568627451\n",
      "Epoch [2/100], Loss: 4.4524\n",
      "SAVE COMPLETE NEW ACC: 7.0588235294117645\n",
      "Epoch [3/100], Loss: 4.0837\n",
      "SAVE COMPLETE NEW ACC: 10.980392156862745\n",
      "Epoch [4/100], Loss: 3.8519\n",
      "SAVE COMPLETE NEW ACC: 13.137254901960784\n",
      "Epoch [5/100], Loss: 3.7701\n",
      "SAVE COMPLETE NEW ACC: 13.92156862745098\n",
      "Epoch [6/100], Loss: 3.4215\n",
      "Epoch [7/100], Loss: 3.1511\n",
      "SAVE COMPLETE NEW ACC: 14.705882352941176\n",
      "Epoch [8/100], Loss: 2.8954\n",
      "SAVE COMPLETE NEW ACC: 16.764705882352942\n",
      "Epoch [9/100], Loss: 3.1101\n",
      "SAVE COMPLETE NEW ACC: 19.313725490196077\n",
      "Epoch [10/100], Loss: 2.7463\n",
      "Epoch [11/100], Loss: 3.2366\n",
      "SAVE COMPLETE NEW ACC: 22.352941176470587\n",
      "Epoch [12/100], Loss: 2.5171\n",
      "Epoch [13/100], Loss: 2.8101\n",
      "SAVE COMPLETE NEW ACC: 22.745098039215687\n",
      "Epoch [14/100], Loss: 2.3526\n",
      "SAVE COMPLETE NEW ACC: 24.019607843137255\n",
      "Epoch [15/100], Loss: 2.7848\n",
      "Epoch [16/100], Loss: 2.0866\n",
      "SAVE COMPLETE NEW ACC: 24.705882352941178\n",
      "Epoch [17/100], Loss: 2.2880\n",
      "SAVE COMPLETE NEW ACC: 25.098039215686274\n",
      "Epoch [18/100], Loss: 2.1721\n",
      "Epoch [19/100], Loss: 1.8610\n",
      "Epoch [20/100], Loss: 2.1173\n",
      "Epoch [21/100], Loss: 1.6445\n",
      "SAVE COMPLETE NEW ACC: 27.54901960784314\n",
      "Epoch [22/100], Loss: 1.6742\n",
      "Epoch [23/100], Loss: 1.9638\n",
      "Epoch [24/100], Loss: 1.0378\n",
      "Epoch [25/100], Loss: 1.1850\n",
      "Epoch [26/100], Loss: 1.1423\n",
      "SAVE COMPLETE NEW ACC: 28.03921568627451\n",
      "Epoch [27/100], Loss: 1.2892\n",
      "Epoch [28/100], Loss: 1.1198\n",
      "Epoch [29/100], Loss: 0.7285\n",
      "Epoch [30/100], Loss: 0.9035\n",
      "Epoch [31/100], Loss: 1.1289\n",
      "Epoch [32/100], Loss: 0.4986\n",
      "Epoch [33/100], Loss: 1.0241\n",
      "Epoch [34/100], Loss: 1.1887\n",
      "Epoch [35/100], Loss: 0.8974\n",
      "Epoch [36/100], Loss: 0.8317\n",
      "Epoch [37/100], Loss: 1.1450\n",
      "SAVE COMPLETE NEW ACC: 29.11764705882353\n",
      "Epoch [38/100], Loss: 0.4062\n",
      "Epoch [39/100], Loss: 0.7656\n",
      "SAVE COMPLETE NEW ACC: 30.58823529411765\n",
      "Epoch [40/100], Loss: 0.4052\n",
      "Epoch [41/100], Loss: 0.3588\n",
      "Epoch [42/100], Loss: 0.2156\n",
      "Epoch [43/100], Loss: 0.7470\n",
      "Epoch [44/100], Loss: 0.7283\n",
      "Epoch [45/100], Loss: 1.1252\n",
      "Epoch [46/100], Loss: 0.3947\n",
      "Epoch [47/100], Loss: 0.4433\n",
      "Epoch [48/100], Loss: 0.2221\n",
      "Epoch [49/100], Loss: 0.3006\n",
      "Epoch [50/100], Loss: 0.2941\n",
      "Epoch [51/100], Loss: 0.3441\n",
      "Epoch [52/100], Loss: 0.5810\n",
      "Epoch [53/100], Loss: 0.0567\n",
      "SAVE COMPLETE NEW ACC: 30.686274509803923\n",
      "Epoch [54/100], Loss: 0.2475\n",
      "SAVE COMPLETE NEW ACC: 31.666666666666668\n",
      "Epoch [55/100], Loss: 0.1412\n",
      "Epoch [56/100], Loss: 0.1206\n",
      "Epoch [57/100], Loss: 0.2091\n",
      "Epoch [58/100], Loss: 0.5227\n",
      "Epoch [59/100], Loss: 0.2201\n",
      "Epoch [60/100], Loss: 0.2623\n",
      "Epoch [61/100], Loss: 0.0980\n",
      "Epoch [62/100], Loss: 0.2059\n",
      "Epoch [63/100], Loss: 1.4385\n",
      "Epoch [64/100], Loss: 0.1490\n",
      "Epoch [65/100], Loss: 0.1870\n",
      "Epoch [66/100], Loss: 0.1036\n",
      "Epoch [67/100], Loss: 0.3597\n",
      "Epoch [68/100], Loss: 0.1570\n",
      "Epoch [69/100], Loss: 0.1699\n",
      "Epoch [70/100], Loss: 0.4463\n",
      "Epoch [71/100], Loss: 0.3202\n",
      "Epoch [72/100], Loss: 0.2195\n",
      "Epoch [73/100], Loss: 0.2691\n",
      "Epoch [74/100], Loss: 0.0770\n",
      "Epoch [75/100], Loss: 0.1114\n",
      "Epoch [76/100], Loss: 0.0100\n",
      "SAVE COMPLETE NEW ACC: 31.96078431372549\n",
      "Epoch [77/100], Loss: 0.1419\n",
      "Epoch [78/100], Loss: 0.0484\n",
      "Epoch [79/100], Loss: 0.0188\n",
      "Epoch [80/100], Loss: 0.0177\n",
      "Epoch [81/100], Loss: 0.1080\n",
      "Epoch [82/100], Loss: 0.0695\n",
      "Epoch [83/100], Loss: 0.0242\n",
      "Epoch [84/100], Loss: 0.4437\n",
      "Epoch [85/100], Loss: 0.0887\n",
      "Epoch [86/100], Loss: 0.0317\n",
      "Epoch [87/100], Loss: 0.0291\n",
      "SAVE COMPLETE NEW ACC: 32.15686274509804\n",
      "Epoch [88/100], Loss: 0.0140\n",
      "Epoch [89/100], Loss: 0.0279\n",
      "Epoch [90/100], Loss: 0.0135\n",
      "Epoch [91/100], Loss: 0.2928\n",
      "Epoch [92/100], Loss: 0.1481\n",
      "Epoch [93/100], Loss: 0.0916\n",
      "Epoch [94/100], Loss: 0.0540\n",
      "Epoch [95/100], Loss: 0.0129\n",
      "Epoch [96/100], Loss: 0.2168\n",
      "Epoch [97/100], Loss: 0.3058\n",
      "Epoch [98/100], Loss: 0.0813\n",
      "Epoch [99/100], Loss: 0.0516\n",
      "Epoch [100/100], Loss: 0.3913\n"
     ]
    }
   ],
   "source": [
    "saveCounter = 0\n",
    "minLoss = 10000\n",
    "valAccurary = 0\n",
    "\n",
    "# We use the pre-defined number of epochs to determine how many iterations to train the network on\n",
    "for epoch in range(num_epochs):\n",
    "\t#Load in the data in batches using the train_loader object\n",
    "    for i, (images, labels) in enumerate(train_dataloader):  \n",
    "        # Move tensors to the configured device\n",
    "        images = images.to(device)\n",
    "        labels = labels.to(device)\n",
    "        \n",
    "        # Forward pass\n",
    "        outputs = net(images)\n",
    "        loss = criterion(outputs, labels)\n",
    "      \n",
    "        \n",
    "        # Backward and optimize\n",
    "        optimizer.zero_grad()\n",
    "        loss.backward()\n",
    "        optimizer.step()\n",
    "\n",
    "    if minLoss > loss:\n",
    "        tempAcc = testValidationData(net)\n",
    "        if tempAcc > valAccurary:\n",
    "            valAccurary = tempAcc\n",
    "            saveCounter += 1\n",
    "            save_network(net, saveCounter)\n",
    "            print(\"SAVE COMPLETE NEW ACC:\", valAccurary)\n",
    "\n",
    "    print('Epoch [{}/{}], Loss: {:.4f}'.format(epoch+1, num_epochs, loss.item()))"
   ]
  },
  {
   "cell_type": "code",
   "execution_count": 7,
   "metadata": {
    "id": "BsUH3Yfv47K6"
   },
   "outputs": [
    {
     "name": "stdout",
     "output_type": "stream",
     "text": [
      "Accuracy of the network on the 1020 train images: 31.470588235294116 %\n"
     ]
    }
   ],
   "source": [
    "net.eval()\n",
    "\n",
    "with torch.no_grad():\n",
    "    correct = 0\n",
    "    total = 0\n",
    "    for images, labels in test_dataloader:\n",
    "        images = images.to(device)\n",
    "        labels = labels.to(device)\n",
    "        outputs = net(images)\n",
    "        _, predicted = torch.max(outputs.data, 1)\n",
    "        total += labels.size(0)\n",
    "        correct += (predicted == labels).sum().item()\n",
    "    \n",
    "    print('Accuracy of the network on the {} train images: {} %'.format(total, 100 * correct / total))"
   ]
  },
  {
   "cell_type": "code",
   "execution_count": 8,
   "metadata": {},
   "outputs": [],
   "source": [
    "save_network(net, \"FINALEPOCH\")"
   ]
  },
  {
   "cell_type": "code",
   "execution_count": null,
   "metadata": {},
   "outputs": [],
   "source": []
  }
 ],
 "metadata": {
  "colab": {
   "provenance": []
  },
  "kernelspec": {
   "display_name": "Python 3 (ipykernel)",
   "language": "python",
   "name": "python3"
  },
  "language_info": {
   "codemirror_mode": {
    "name": "ipython",
    "version": 3
   },
   "file_extension": ".py",
   "mimetype": "text/x-python",
   "name": "python",
   "nbconvert_exporter": "python",
   "pygments_lexer": "ipython3",
   "version": "3.9.13"
  }
 },
 "nbformat": 4,
 "nbformat_minor": 1
}
