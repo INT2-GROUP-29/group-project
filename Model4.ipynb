{
 "cells": [
  {
   "cell_type": "code",
   "execution_count": 77,
   "metadata": {
    "colab": {
     "base_uri": "https://localhost:8080/",
     "height": 298
    },
    "id": "q-j3b_Sx4Tb9",
    "outputId": "934bae88-fcec-4702-b9b9-8575bf7f4080"
   },
   "outputs": [],
   "source": [
    "import torch\n",
    "from torch import nn\n",
    "from torch.utils.data import DataLoader\n",
    "from torchvision import datasets\n",
    "import torchvision.transforms as transforms"
   ]
  },
  {
   "cell_type": "code",
   "execution_count": 78,
   "metadata": {
    "colab": {
     "base_uri": "https://localhost:8080/"
    },
    "id": "Be731vWl4Wj1",
    "outputId": "de6d1a6f-081d-4551-958b-c79899512a97"
   },
   "outputs": [],
   "source": [
    "# Download training data from open datasets.\n",
    "# Guassian blur - how to do: RESEARCH\n",
    "training_data = datasets.Flowers102(\n",
    "    root=\"data\",\n",
    "    split=\"train\",\n",
    "    download=True,\n",
    "    transform = transforms.Compose([transforms.Resize((64, 64)), transforms.ToTensor(), transforms.RandomHorizontalFlip(),\n",
    "                                    transforms.Normalize((0.4914, 0.4822, 0.4465), (0.2023, 0.1994, 0.2010)),\n",
    "                                    transforms.RandomVerticalFlip(), transforms.RandomRotation(45)]),\n",
    ")\n",
    "\n",
    "# Download test data from open datasets.\n",
    "test_data = datasets.Flowers102(\n",
    "    root=\"data\",\n",
    "    split=\"test\",\n",
    "    download=True,\n",
    "    transform = transforms.Compose([transforms.Resize((64, 64)), transforms.ToTensor(),\n",
    "                                   transforms.Normalize((0.4914, 0.4822, 0.4465), (0.2023, 0.1994, 0.2010))]),\n",
    ")"
   ]
  },
  {
   "cell_type": "code",
   "execution_count": 79,
   "metadata": {
    "id": "9QtjhkqE4ar5"
   },
   "outputs": [],
   "source": [
    "batch_size = 32\n",
    "num_classes = 102\n",
    "learning_rate = 0.001\n",
    "num_epochs = 90\n",
    "\n",
    "# Create data loaders.\n",
    "train_dataloader = DataLoader(training_data, batch_size=batch_size, shuffle=True)\n",
    "test_dataloader = DataLoader(test_data, batch_size=batch_size)"
   ]
  },
  {
   "cell_type": "code",
   "execution_count": 80,
   "metadata": {
    "id": "zuLLmf1t4b82"
   },
   "outputs": [],
   "source": [
    "import torch.nn.functional as F\n",
    "import os\n",
    "\n",
    "class Net(nn.Module):\n",
    "\t#  Determine what layers and their order in CNN object \n",
    "    def __init__(self, num_classes):\n",
    "        super(Net, self).__init__()\n",
    "        self.conv_layer1 = nn.Conv2d(in_channels=3, out_channels=64, kernel_size=3)\n",
    "        self.conv_layer2 = nn.Conv2d(in_channels=64, out_channels=128, kernel_size=3)\n",
    "        self.batch_layer1 = nn.BatchNorm2d(num_features=128) \n",
    "        self.max_pool1 = nn.MaxPool2d(kernel_size = 2, stride = 2)\n",
    "        \n",
    "        self.conv_layer3 = nn.Conv2d(in_channels=128, out_channels=512, kernel_size=3)\n",
    "        self.conv_layer4 = nn.Conv2d(in_channels=512, out_channels=512, kernel_size=3)\n",
    "        self.batch_layer2 = nn.BatchNorm2d(num_features=512)\n",
    "        self.max_pool2 = nn.MaxPool2d(kernel_size = 2, stride = 2)\n",
    "\n",
    "        self.conv_layer5 = nn.Conv2d(in_channels=512, out_channels=512, kernel_size=3)\n",
    "        self.conv_layer6 = nn.Conv2d(in_channels=512, out_channels=512, kernel_size=3)\n",
    "        self.batch_layer3 = nn.BatchNorm2d(num_features=512)\n",
    "        self.max_pool3 = nn.MaxPool2d(kernel_size = 2, stride = 2)\n",
    "\n",
    "        self.fc1 = nn.Linear(8192 , 128)\n",
    "        self.relu1 = nn.ReLU()\n",
    "        self.fc2 = nn.Linear(128, num_classes)\n",
    "    \n",
    "\n",
    "    def forward(self, x):\n",
    "        out = self.conv_layer1(x)\n",
    "        out = self.conv_layer2(out)\n",
    "        out = self.batch_layer1(out)\n",
    "        out = self.relu1(out)\n",
    "        out = self.max_pool1(out)\n",
    "        \n",
    "        out = self.conv_layer3(out)\n",
    "        out = self.conv_layer4(out)\n",
    "        out = self.batch_layer2(out)\n",
    "        out = self.relu1(out)\n",
    "        out = self.max_pool2(out)\n",
    "\n",
    "        out = self.conv_layer5(out)\n",
    "        out = self.conv_layer6(out)\n",
    "        out = self.batch_layer3(out)\n",
    "        out = self.relu1(out)\n",
    "        out = self.max_pool3(out)\n",
    "                \n",
    "        out = out.reshape(out.size(0), -1)\n",
    "        \n",
    "        out = self.fc1(out)\n",
    "        out = self.relu1(out)\n",
    "        out = self.fc2(out)\n",
    "        return out\n",
    "\n",
    "net = Net(num_classes)\n",
    "\n",
    "def save_network(network, epoch_label):\n",
    "    save_filename = 'net_%s.pth' % epoch_label\n",
    "    save_path = os.path.join(save_filename)\n",
    "    torch.save(network.state_dict(), save_path)"
   ]
  },
  {
   "cell_type": "code",
   "execution_count": 81,
   "metadata": {
    "id": "j1nVfQzO4zNS"
   },
   "outputs": [],
   "source": [
    "import torch.optim as optim\n",
    "\n",
    "criterion = nn.CrossEntropyLoss()\n",
    "optimizer = optim.SGD(net.parameters(), lr=learning_rate, momentum=0.9)\n",
    "\n",
    "device = torch.device('cuda' if torch.cuda.is_available() else 'cpu')"
   ]
  },
  {
   "cell_type": "code",
   "execution_count": 82,
   "metadata": {
    "colab": {
     "base_uri": "https://localhost:8080/",
     "height": 1000
    },
    "id": "5-Ag8ogm4za3",
    "outputId": "528f1e72-014b-457e-83d4-19cf48ae2a52",
    "scrolled": true
   },
   "outputs": [
    {
     "name": "stdout",
     "output_type": "stream",
     "text": [
      "Epoch [1/100], Loss: 4.4204\n",
      "Epoch [2/100], Loss: 4.2603\n",
      "Epoch [3/100], Loss: 3.7933\n",
      "Epoch [4/100], Loss: 3.5210\n",
      "Epoch [5/100], Loss: 3.5875\n",
      "Epoch [6/100], Loss: 3.3572\n",
      "Epoch [7/100], Loss: 3.2465\n",
      "Epoch [8/100], Loss: 3.1823\n",
      "Epoch [9/100], Loss: 2.8934\n",
      "Epoch [10/100], Loss: 2.6421\n",
      "Epoch [11/100], Loss: 2.6237\n",
      "Epoch [12/100], Loss: 2.7223\n",
      "Epoch [13/100], Loss: 2.6709\n",
      "Epoch [14/100], Loss: 2.1873\n",
      "Epoch [15/100], Loss: 2.1485\n",
      "Epoch [16/100], Loss: 1.7847\n",
      "Epoch [17/100], Loss: 2.4879\n",
      "Epoch [18/100], Loss: 2.0459\n",
      "Epoch [19/100], Loss: 2.5823\n",
      "Epoch [20/100], Loss: 2.0468\n",
      "Epoch [21/100], Loss: 1.7618\n",
      "Epoch [22/100], Loss: 1.9147\n",
      "Epoch [23/100], Loss: 1.8875\n",
      "Epoch [24/100], Loss: 1.9488\n",
      "Epoch [25/100], Loss: 1.5828\n",
      "Epoch [26/100], Loss: 1.9310\n",
      "Epoch [27/100], Loss: 1.6187\n",
      "Epoch [28/100], Loss: 1.3481\n",
      "Epoch [29/100], Loss: 1.7072\n",
      "Epoch [30/100], Loss: 1.1062\n",
      "Epoch [31/100], Loss: 1.1957\n",
      "Epoch [32/100], Loss: 1.6361\n",
      "Epoch [33/100], Loss: 1.2496\n",
      "Epoch [34/100], Loss: 1.2525\n",
      "Epoch [35/100], Loss: 0.7830\n",
      "Epoch [36/100], Loss: 1.2288\n",
      "Epoch [37/100], Loss: 1.0709\n",
      "Epoch [38/100], Loss: 1.0076\n",
      "Epoch [39/100], Loss: 0.8602\n",
      "Epoch [40/100], Loss: 0.8393\n",
      "Epoch [41/100], Loss: 0.9537\n",
      "Epoch [42/100], Loss: 0.6395\n",
      "Epoch [43/100], Loss: 1.1533\n",
      "Epoch [44/100], Loss: 0.5114\n",
      "Epoch [45/100], Loss: 0.5058\n",
      "Epoch [46/100], Loss: 1.0252\n",
      "Epoch [47/100], Loss: 0.5573\n",
      "Epoch [48/100], Loss: 1.0029\n",
      "Epoch [49/100], Loss: 0.7642\n",
      "Epoch [50/100], Loss: 0.4313\n",
      "Epoch [51/100], Loss: 0.2447\n",
      "Epoch [52/100], Loss: 0.4795\n",
      "Epoch [53/100], Loss: 0.2772\n",
      "Epoch [54/100], Loss: 0.5633\n",
      "Epoch [55/100], Loss: 0.4820\n",
      "Epoch [56/100], Loss: 0.5551\n",
      "Epoch [57/100], Loss: 0.6191\n",
      "Epoch [58/100], Loss: 0.2355\n",
      "Epoch [59/100], Loss: 0.3855\n",
      "Epoch [60/100], Loss: 0.3676\n",
      "Epoch [61/100], Loss: 0.2395\n",
      "Epoch [62/100], Loss: 0.3392\n",
      "Epoch [63/100], Loss: 0.3918\n",
      "Epoch [64/100], Loss: 0.4000\n",
      "Epoch [65/100], Loss: 0.2761\n",
      "Epoch [66/100], Loss: 0.3259\n",
      "Epoch [67/100], Loss: 0.2455\n",
      "Epoch [68/100], Loss: 0.3255\n",
      "Epoch [69/100], Loss: 0.2910\n",
      "Epoch [70/100], Loss: 0.3271\n",
      "Epoch [71/100], Loss: 0.3011\n",
      "Epoch [72/100], Loss: 0.3041\n",
      "Epoch [73/100], Loss: 0.1753\n",
      "Epoch [74/100], Loss: 0.1411\n",
      "Epoch [75/100], Loss: 0.2347\n",
      "Epoch [76/100], Loss: 0.1254\n",
      "Epoch [77/100], Loss: 0.1830\n",
      "Epoch [78/100], Loss: 0.0798\n",
      "Epoch [79/100], Loss: 0.1283\n",
      "Epoch [80/100], Loss: 0.2227\n",
      "Epoch [81/100], Loss: 0.1627\n",
      "Epoch [82/100], Loss: 0.0897\n",
      "Epoch [83/100], Loss: 0.0890\n",
      "Epoch [84/100], Loss: 0.1578\n",
      "Epoch [85/100], Loss: 0.1160\n",
      "Epoch [86/100], Loss: 0.1858\n",
      "Epoch [87/100], Loss: 0.1080\n",
      "Epoch [88/100], Loss: 0.1192\n",
      "Epoch [89/100], Loss: 0.1312\n",
      "Epoch [90/100], Loss: 0.0496\n",
      "Epoch [91/100], Loss: 0.0937\n",
      "Epoch [92/100], Loss: 0.1605\n",
      "Epoch [93/100], Loss: 0.0989\n",
      "Epoch [94/100], Loss: 0.1653\n",
      "Epoch [95/100], Loss: 0.1367\n",
      "Epoch [96/100], Loss: 0.0757\n",
      "Epoch [97/100], Loss: 0.0730\n",
      "Epoch [98/100], Loss: 0.0749\n",
      "Epoch [99/100], Loss: 0.0872\n",
      "Epoch [100/100], Loss: 0.0360\n"
     ]
    }
   ],
   "source": [
    "# We use the pre-defined number of epochs to determine how many iterations to train the network on\n",
    "for epoch in range(num_epochs):\n",
    "\t#Load in the data in batches using the train_loader object\n",
    "    for i, (images, labels) in enumerate(train_dataloader):  \n",
    "        # Move tensors to the configured device\n",
    "        images = images.to(device)\n",
    "        labels = labels.to(device)\n",
    "        \n",
    "        # Forward pass\n",
    "        outputs = net(images)\n",
    "        loss = criterion(outputs, labels)\n",
    "      \n",
    "        \n",
    "        # Backward and optimize\n",
    "        optimizer.zero_grad()\n",
    "        loss.backward()\n",
    "        optimizer.step()\n",
    "\n",
    "        if epoch % 10 == 0:\n",
    "            save_network(net, epoch)\n",
    "\n",
    "    print('Epoch [{}/{}], Loss: {:.4f}'.format(epoch+1, num_epochs, loss.item()))"
   ]
  },
  {
   "cell_type": "code",
   "execution_count": 83,
   "metadata": {
    "colab": {
     "base_uri": "https://localhost:8080/",
     "height": 239
    },
    "id": "BsUH3Yfv47K6",
    "outputId": "6a312104-6d3a-42d4-9153-34e7c8fbbce3"
   },
   "outputs": [
    {
     "name": "stdout",
     "output_type": "stream",
     "text": [
      "Accuracy of the network on the 6149 train images: 10.879817856562042 %\n"
     ]
    }
   ],
   "source": [
    "with torch.no_grad():\n",
    "    correct = 0\n",
    "    total = 0\n",
    "    for images, labels in test_dataloader:\n",
    "        images = images.to(device)\n",
    "        labels = labels.to(device)\n",
    "        outputs = net(images)\n",
    "        _, predicted = torch.max(outputs.data, 1)\n",
    "        total += labels.size(0)\n",
    "        correct += (predicted == labels).sum().item()\n",
    "    \n",
    "    print('Accuracy of the network on the {} train images: {} %'.format(total, 100 * correct / total))"
   ]
  },
  {
   "cell_type": "code",
   "execution_count": null,
   "metadata": {},
   "outputs": [],
   "source": []
  }
 ],
 "metadata": {
  "colab": {
   "provenance": []
  },
  "kernelspec": {
   "display_name": "Python 3 (ipykernel)",
   "language": "python",
   "name": "python3"
  },
  "language_info": {
   "codemirror_mode": {
    "name": "ipython",
    "version": 3
   },
   "file_extension": ".py",
   "mimetype": "text/x-python",
   "name": "python",
   "nbconvert_exporter": "python",
   "pygments_lexer": "ipython3",
   "version": "3.9.13"
  }
 },
 "nbformat": 4,
 "nbformat_minor": 1
}
