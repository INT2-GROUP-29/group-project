{
  "cells": [
    {
      "cell_type": "code",
      "execution_count": 1,
      "metadata": {
        "id": "q-j3b_Sx4Tb9"
      },
      "outputs": [],
      "source": [
        "import torch\n",
        "from torch import nn\n",
        "from torch.utils.data import DataLoader\n",
        "from torchvision import datasets\n",
        "import torchvision.transforms as transforms\n",
        "import torch.optim.lr_scheduler as lr_scheduler"
      ]
    },
    {
      "cell_type": "code",
      "execution_count": 7,
      "metadata": {
        "id": "Be731vWl4Wj1"
      },
      "outputs": [],
      "source": [
        "# Download training data from open datasets.\n",
        "# Guassian blur - how to do: RESEARCH\n",
        "training_data = datasets.Flowers102(\n",
        "    root=\"data\",\n",
        "    split=\"train\",\n",
        "    download=True,\n",
        "    transform = transforms.Compose([transforms.Resize((128, 128)), transforms.ToTensor(), transforms.RandomHorizontalFlip(),\n",
        "                                    transforms.Normalize((0.4914, 0.4822, 0.4465), (0.2023, 0.1994, 0.2010)),\n",
        "                                    transforms.RandomVerticalFlip(), transforms.RandomRotation(45),\n",
        "                                    transforms.ColorJitter(brightness=(0.5,1.5),contrast=(1),saturation=(0.5,1.5),hue=(-0.1,0.1))]),\n",
        ")\n",
        "\n",
        "# Download test data from open datasets.\n",
        "test_data = datasets.Flowers102(\n",
        "    root=\"data\",\n",
        "    split=\"test\",\n",
        "    download=True,\n",
        "    transform = transforms.Compose([transforms.Resize((128, 128)), transforms.ToTensor(),\n",
        "                                   transforms.Normalize((0.4914, 0.4822, 0.4465), (0.2023, 0.1994, 0.2010))]),\n",
        ")\n",
        "\n",
        "# Download test data from open datasets.\n",
        "val_data = datasets.Flowers102(\n",
        "    root=\"data\",\n",
        "    split=\"val\",\n",
        "    download=True,\n",
        "    transform = transforms.Compose([transforms.Resize((128, 128)), transforms.ToTensor(),\n",
        "                                   transforms.Normalize((0.4914, 0.4822, 0.4465), (0.2023, 0.1994, 0.2010))]),\n",
        ")"
      ]
    },
    {
      "cell_type": "code",
      "execution_count": 8,
      "metadata": {
        "id": "9QtjhkqE4ar5"
      },
      "outputs": [],
      "source": [
        "batch_size = 32\n",
        "num_classes = 102\n",
        "learning_rate = 0.001\n",
        "num_epochs = 500\n",
        "\n",
        "# Create data loaders.\n",
        "train_dataloader = DataLoader(training_data, batch_size=batch_size, shuffle=True)\n",
        "test_dataloader = DataLoader(test_data, batch_size=batch_size)\n",
        "val_dataloader = DataLoader(val_data, batch_size=batch_size)"
      ]
    },
    {
      "cell_type": "code",
      "execution_count": 12,
      "metadata": {
        "id": "zuLLmf1t4b82"
      },
      "outputs": [],
      "source": [
        "import torch.nn.functional as F\n",
        "import os\n",
        "\n",
        "class Net(nn.Module):\n",
        "\t#  Determine what layers and their order in CNN object \n",
        "    def __init__(self, num_classes):\n",
        "        super(Net, self).__init__()\n",
        "        self.conv_layer1 = nn.Conv2d(in_channels=3, out_channels=64, kernel_size=3)\n",
        "        self.conv_layer2 = nn.Conv2d(in_channels=64, out_channels=64, kernel_size=3)\n",
        "        self.batch_layer1 = nn.BatchNorm2d(num_features=64) \n",
        "        self.max_pool1 = nn.MaxPool2d(kernel_size = 2, stride = 2)\n",
        "        \n",
        "        self.conv_layer3 = nn.Conv2d(in_channels=64, out_channels=128, kernel_size=3)\n",
        "        self.conv_layer4 = nn.Conv2d(in_channels=128, out_channels=128, kernel_size=3)\n",
        "        self.batch_layer2 = nn.BatchNorm2d(num_features=128) \n",
        "        self.max_pool2 = nn.MaxPool2d(kernel_size = 2, stride = 2)\n",
        "        \n",
        "        self.conv_layer5 = nn.Conv2d(in_channels=128, out_channels=256, kernel_size=3)\n",
        "        self.conv_layer6 = nn.Conv2d(in_channels=256, out_channels=256, kernel_size=3)\n",
        "        self.conv_layer7 = nn.Conv2d(in_channels=256, out_channels=256, kernel_size=3)\n",
        "        self.conv_layer8 = nn.Conv2d(in_channels=256, out_channels=256, kernel_size=3)\n",
        "        self.batch_layer3 = nn.BatchNorm2d(num_features=256)\n",
        "        self.max_pool3 = nn.MaxPool2d(kernel_size = 2, stride = 2)\n",
        "\n",
        "        self.conv_layer9 = nn.Conv2d(in_channels=256, out_channels=512, kernel_size=3)\n",
        "        self.conv_layer10 = nn.Conv2d(in_channels=512, out_channels=512, kernel_size=3)\n",
        "        self.conv_layer11 = nn.Conv2d(in_channels=512, out_channels=512, kernel_size=3)\n",
        "        self.conv_layer12 = nn.Conv2d(in_channels=512, out_channels=512, kernel_size=3)\n",
        "        self.batch_layer4 = nn.BatchNorm2d(num_features=512)\n",
        "        self.max_pool4 = nn.MaxPool2d(kernel_size = 2, stride = 2)\n",
        "\n",
        "        self.fc1 = nn.Linear(512 , 128)\n",
        "        self.dropout = nn.Dropout(0.25)\n",
        "        self.relu1 = nn.PReLU()\n",
        "        self.fc2 = nn.Linear(128, num_classes)\n",
        "    \n",
        "\n",
        "    def forward(self, x):\n",
        "        #print(str(x.size()))\n",
        "        out = self.conv_layer1(x)\n",
        "        out = self.conv_layer2(out)\n",
        "        out = self.batch_layer1(out)\n",
        "        out = self.relu1(out)\n",
        "        out = self.max_pool1(out)\n",
        "        \n",
        "        out = self.conv_layer3(out)\n",
        "        out = self.conv_layer4(out)\n",
        "        out = self.batch_layer2(out)\n",
        "        out = self.relu1(out)\n",
        "        out = self.max_pool2(out)\n",
        "        \n",
        "        out = self.conv_layer5(out)\n",
        "        out = self.conv_layer6(out)\n",
        "        out = self.conv_layer7(out)\n",
        "        out = self.conv_layer8(out)\n",
        "        out = self.batch_layer3(out)\n",
        "        out = self.relu1(out)\n",
        "        out = self.max_pool3(out)\n",
        "\n",
        "        out = self.conv_layer9(out)\n",
        "        out = self.conv_layer10(out)\n",
        "        out = self.conv_layer11(out)\n",
        "        out = self.conv_layer12(out)\n",
        "        out = self.batch_layer4(out)\n",
        "        out = self.relu1(out)\n",
        "        out = self.max_pool4(out)\n",
        "              \n",
        "        out = out.reshape(out.size(0), -1)\n",
        "        \n",
        "        out = self.fc1(out)\n",
        "        out = self.dropout(out)\n",
        "        out = self.relu1(out)\n",
        "        out = self.fc2(out)\n",
        "        return out\n",
        "\n",
        "net = Net(num_classes)\n",
        "\n",
        "def save_network(network, epoch_label):\n",
        "    save_filename = 'net_%s.pth' % epoch_label\n",
        "    save_path = os.path.join(save_filename)\n",
        "    torch.save(network.state_dict(), save_path)\n",
        "    \n",
        "def testValidationData(network):\n",
        "    net.eval()\n",
        "    with torch.no_grad():\n",
        "        correct = 0\n",
        "        total = 0\n",
        "        for images, labels in val_dataloader:\n",
        "            images = images.to(device)\n",
        "            labels = labels.to(device)\n",
        "            outputs = net(images)\n",
        "            _, predicted = torch.max(outputs.data, 1)\n",
        "            total += labels.size(0)\n",
        "            correct += (predicted == labels).sum().item()\n",
        "        return (100 * correct / total)"
      ]
    },
    {
      "cell_type": "code",
      "execution_count": 13,
      "metadata": {
        "id": "j1nVfQzO4zNS"
      },
      "outputs": [],
      "source": [
        "import torch.optim as optim\n",
        "\n",
        "criterion = nn.CrossEntropyLoss()\n",
        "optimizer = optim.SGD(net.parameters(), lr=learning_rate, momentum=0.9, weight_decay=0.0001)\n",
        "scheduler = lr_scheduler.LinearLR(optimizer, start_factor=1.0, end_factor=0.3, total_iters=10)\n",
        "\n",
        "device = torch.device('cuda' if torch.cuda.is_available() else 'cpu')"
      ]
    },
    {
      "cell_type": "code",
      "execution_count": null,
      "metadata": {
        "id": "5-Ag8ogm4za3",
        "scrolled": false
      },
      "outputs": [],
      "source": [
        "saveCounter = 0\n",
        "minLoss = 10000\n",
        "valAccurary = 0\n",
        "\n",
        "# We use the pre-defined number of epochs to determine how many iterations to train the network on\n",
        "for epoch in range(num_epochs):\n",
        "\t#Load in the data in batches using the train_loader object\n",
        "    for i, (images, labels) in enumerate(train_dataloader):  \n",
        "        # Move tensors to the configured device\n",
        "        images = images.to(device)\n",
        "        labels = labels.to(device)\n",
        "        \n",
        "        # Forward pass\n",
        "        outputs = net(images)\n",
        "        loss = criterion(outputs, labels)\n",
        "      \n",
        "        \n",
        "        # Backward and optimize\n",
        "        optimizer.zero_grad()\n",
        "        loss.backward()\n",
        "        optimizer.step()\n",
        "\n",
        "\n",
        "    if minLoss > loss and epoch % 5 == 0:\n",
        "        tempAcc = testValidationData(net)\n",
        "        if tempAcc > valAccurary:\n",
        "            valAccurary = tempAcc\n",
        "            saveCounter += 1\n",
        "            save_network(net, saveCounter)\n",
        "            print(\"SAVE COMPLETE NEW ACC:\", valAccurary)\n",
        "\n",
        "    print('Epoch [{}/{}], Loss: {:.4f}'.format(epoch+1, num_epochs, loss.item()))"
      ]
    },
    {
      "cell_type": "code",
      "execution_count": null,
      "metadata": {
        "id": "BsUH3Yfv47K6"
      },
      "outputs": [],
      "source": [
        "net.eval()\n",
        "\n",
        "with torch.no_grad():\n",
        "    correct = 0\n",
        "    total = 0\n",
        "    for images, labels in test_dataloader:\n",
        "        images = images.to(device)\n",
        "        labels = labels.to(device)\n",
        "        outputs = net(images)\n",
        "        _, predicted = torch.max(outputs.data, 1)\n",
        "        total += labels.size(0)\n",
        "        correct += (predicted == labels).sum().item()\n",
        "    \n",
        "    print('Accuracy of the network on the {} train images: {} %'.format(total, 100 * correct / total))"
      ]
    },
    {
      "cell_type": "code",
      "execution_count": null,
      "metadata": {
        "id": "Ib-D2crz2ZFa"
      },
      "outputs": [],
      "source": [
        "save_network(net, \"FINALEPOCH\")"
      ]
    },
    {
      "cell_type": "code",
      "execution_count": null,
      "metadata": {
        "id": "lW_ztacc2ZFd"
      },
      "outputs": [],
      "source": []
    }
  ],
  "metadata": {
    "colab": {
      "provenance": []
    },
    "kernelspec": {
      "display_name": "Python 3 (ipykernel)",
      "language": "python",
      "name": "python3"
    },
    "language_info": {
      "codemirror_mode": {
        "name": "ipython",
        "version": 3
      },
      "file_extension": ".py",
      "mimetype": "text/x-python",
      "name": "python",
      "nbconvert_exporter": "python",
      "pygments_lexer": "ipython3",
      "version": "3.9.13"
    }
  },
  "nbformat": 4,
  "nbformat_minor": 0
}