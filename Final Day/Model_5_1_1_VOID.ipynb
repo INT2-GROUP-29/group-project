{
  "cells": [
    {
      "cell_type": "code",
      "execution_count": 1,
      "metadata": {
        "id": "q-j3b_Sx4Tb9"
      },
      "outputs": [],
      "source": [
        "import torch\n",
        "from torch import nn\n",
        "from torch.utils.data import DataLoader\n",
        "from torchvision import datasets\n",
        "import torchvision.transforms as transforms"
      ]
    },
    {
      "cell_type": "code",
      "execution_count": 2,
      "metadata": {
        "id": "Be731vWl4Wj1",
        "colab": {
          "base_uri": "https://localhost:8080/"
        },
        "outputId": "d38c554f-eaa5-4eeb-a39e-819e24357b43"
      },
      "outputs": [
        {
          "output_type": "stream",
          "name": "stdout",
          "text": [
            "Downloading https://thor.robots.ox.ac.uk/datasets/flowers-102/102flowers.tgz to data/flowers-102/102flowers.tgz\n"
          ]
        },
        {
          "output_type": "stream",
          "name": "stderr",
          "text": [
            "100%|██████████| 344862509/344862509 [00:17<00:00, 20169995.11it/s]\n"
          ]
        },
        {
          "output_type": "stream",
          "name": "stdout",
          "text": [
            "Extracting data/flowers-102/102flowers.tgz to data/flowers-102\n",
            "Downloading https://thor.robots.ox.ac.uk/datasets/flowers-102/imagelabels.mat to data/flowers-102/imagelabels.mat\n"
          ]
        },
        {
          "output_type": "stream",
          "name": "stderr",
          "text": [
            "100%|██████████| 502/502 [00:00<00:00, 360291.00it/s]\n"
          ]
        },
        {
          "output_type": "stream",
          "name": "stdout",
          "text": [
            "Downloading https://thor.robots.ox.ac.uk/datasets/flowers-102/setid.mat to data/flowers-102/setid.mat\n"
          ]
        },
        {
          "output_type": "stream",
          "name": "stderr",
          "text": [
            "100%|██████████| 14989/14989 [00:00<00:00, 15677910.89it/s]\n"
          ]
        }
      ],
      "source": [
        "# Download training data from open datasets.\n",
        "# Guassian blur - how to do: RESEARCH\n",
        "training_data = datasets.Flowers102(\n",
        "    root=\"data\",\n",
        "    split=\"train\",\n",
        "    download=True,\n",
        "    transform = transforms.Compose([transforms.Resize((64, 64)), transforms.ToTensor(), transforms.RandomHorizontalFlip(),\n",
        "                                    transforms.Normalize((0.4914, 0.4822, 0.4465), (0.2023, 0.1994, 0.2010)),\n",
        "                                    transforms.RandomVerticalFlip(), transforms.RandomRotation(45)]),\n",
        ")\n",
        "\n",
        "# Download test data from open datasets.\n",
        "test_data = datasets.Flowers102(\n",
        "    root=\"data\",\n",
        "    split=\"test\",\n",
        "    download=True,\n",
        "    transform = transforms.Compose([transforms.Resize((64, 64)), transforms.ToTensor(),\n",
        "                                   transforms.Normalize((0.4914, 0.4822, 0.4465), (0.2023, 0.1994, 0.2010))]),\n",
        ")\n",
        "\n",
        "# Download test data from open datasets.\n",
        "val_data = datasets.Flowers102(\n",
        "    root=\"data\",\n",
        "    split=\"val\",\n",
        "    download=True,\n",
        "    transform = transforms.Compose([transforms.Resize((64, 64)), transforms.ToTensor(),\n",
        "                                   transforms.Normalize((0.4914, 0.4822, 0.4465), (0.2023, 0.1994, 0.2010))]),\n",
        ")"
      ]
    },
    {
      "cell_type": "code",
      "execution_count": 3,
      "metadata": {
        "id": "9QtjhkqE4ar5"
      },
      "outputs": [],
      "source": [
        "batch_size = 32\n",
        "num_classes = 102\n",
        "learning_rate = 0.001\n",
        "num_epochs = 90\n",
        "\n",
        "# Create data loaders.\n",
        "train_dataloader = DataLoader(training_data, batch_size=batch_size, shuffle=True)\n",
        "test_dataloader = DataLoader(test_data, batch_size=batch_size)\n",
        "val_dataloader = DataLoader(val_data, batch_size=batch_size)"
      ]
    },
    {
      "cell_type": "code",
      "execution_count": 4,
      "metadata": {
        "id": "zuLLmf1t4b82"
      },
      "outputs": [],
      "source": [
        "import torch.nn.functional as F\n",
        "import os\n",
        "\n",
        "class Net(nn.Module):\n",
        "\t#  Determine what layers and their order in CNN object \n",
        "    def __init__(self, num_classes):\n",
        "        super(Net, self).__init__()\n",
        "        self.conv_layer1 = nn.Conv2d(in_channels=3, out_channels=64, kernel_size=3)\n",
        "        self.batch_layer1 = nn.BatchNorm2d(num_features=64) \n",
        "        self.max_pool1 = nn.MaxPool2d(kernel_size = 2, stride = 2)\n",
        "        \n",
        "        self.conv_layer2 = nn.Conv2d(in_channels=64, out_channels=128, kernel_size=3)\n",
        "        self.batch_layer2 = nn.BatchNorm2d(num_features=128)\n",
        "        self.max_pool2 = nn.MaxPool2d(kernel_size = 2, stride = 2)\n",
        "\n",
        "        self.conv_layer3 = nn.Conv2d(in_channels=128, out_channels=256, kernel_size=3)\n",
        "        self.batch_layer3 = nn.BatchNorm2d(num_features=256)\n",
        "        self.max_pool3 = nn.MaxPool2d(kernel_size = 2, stride = 2)\n",
        "\n",
        "        self.conv_layer4 = nn.Conv2d(in_channels=256, out_channels=512, kernel_size=3)\n",
        "        self.batch_layer4 = nn.BatchNorm2d(num_features=512)\n",
        "        self.max_pool4 = nn.MaxPool2d(kernel_size = 2, stride = 2)\n",
        "\n",
        "        self.fc1 = nn.Linear(2048 , 128)\n",
        "        self.relu1 = nn.PReLU()\n",
        "        self.fc2 = nn.Linear(128, num_classes)\n",
        "    \n",
        "\n",
        "    def forward(self, x):\n",
        "        out = self.conv_layer1(x)\n",
        "        out = self.batch_layer1(out)\n",
        "        out = self.relu1(out)\n",
        "        out = self.max_pool1(out)\n",
        "        \n",
        "        out = self.conv_layer2(out)\n",
        "        out = self.batch_layer2(out)\n",
        "        out = self.relu1(out)\n",
        "        out = self.max_pool2(out)\n",
        "\n",
        "        out = self.conv_layer3(out)\n",
        "        out = self.batch_layer3(out)\n",
        "        out = self.relu1(out)\n",
        "        out = self.max_pool3(out)\n",
        "\n",
        "        out = self.conv_layer4(out)\n",
        "        out = self.batch_layer4(out)\n",
        "        out = self.relu1(out)\n",
        "        out = self.max_pool4(out)\n",
        "                \n",
        "        out = out.reshape(out.size(0), -1)\n",
        "        \n",
        "        out = self.fc1(out)\n",
        "        out = self.relu1(out)\n",
        "        out = self.fc2(out)\n",
        "        return out\n",
        "\n",
        "net = Net(num_classes)\n",
        "\n",
        "def save_network(network, epoch_label):\n",
        "    save_filename = 'net_%s.pth' % epoch_label\n",
        "    save_path = os.path.join(save_filename)\n",
        "    torch.save(network.state_dict(), save_path)\n",
        "\n",
        "def testValidationData(network):\n",
        "    net.eval()\n",
        "    with torch.no_grad():\n",
        "        correct = 0\n",
        "        total = 0\n",
        "        for images, labels in val_dataloader:\n",
        "            images = images.to(device)\n",
        "            labels = labels.to(device)\n",
        "            outputs = net(images)\n",
        "            _, predicted = torch.max(outputs.data, 1)\n",
        "            total += labels.size(0)\n",
        "            correct += (predicted == labels).sum().item()\n",
        "        return (100 * correct / total)"
      ]
    },
    {
      "cell_type": "code",
      "execution_count": 5,
      "metadata": {
        "id": "j1nVfQzO4zNS"
      },
      "outputs": [],
      "source": [
        "import torch.optim as optim\n",
        "\n",
        "criterion = nn.CrossEntropyLoss()\n",
        "optimizer = optim.Adam(net.parameters(), lr=learning_rate)\n",
        "\n",
        "device = torch.device('cuda' if torch.cuda.is_available() else 'cpu')"
      ]
    },
    {
      "cell_type": "code",
      "execution_count": 6,
      "metadata": {
        "colab": {
          "base_uri": "https://localhost:8080/"
        },
        "id": "5-Ag8ogm4za3",
        "outputId": "5b117f42-89d4-40a2-a7c8-543fc36a8d5c",
        "scrolled": true
      },
      "outputs": [
        {
          "output_type": "stream",
          "name": "stdout",
          "text": [
            "SAVE COMPLETE NEW ACC: 6.2745098039215685\n",
            "Epoch [1/90], Loss: 4.0828\n",
            "Epoch [2/90], Loss: 3.7023\n",
            "Epoch [3/90], Loss: 3.4363\n",
            "Epoch [4/90], Loss: 3.2839\n",
            "Epoch [5/90], Loss: 3.0160\n",
            "SAVE COMPLETE NEW ACC: 22.647058823529413\n",
            "Epoch [6/90], Loss: 2.9840\n",
            "Epoch [7/90], Loss: 2.8204\n",
            "Epoch [8/90], Loss: 2.4316\n",
            "Epoch [9/90], Loss: 2.1162\n",
            "Epoch [10/90], Loss: 2.1373\n",
            "SAVE COMPLETE NEW ACC: 28.823529411764707\n",
            "Epoch [11/90], Loss: 2.2772\n",
            "Epoch [12/90], Loss: 2.0844\n",
            "Epoch [13/90], Loss: 1.6832\n",
            "Epoch [14/90], Loss: 1.4863\n",
            "Epoch [15/90], Loss: 1.7799\n",
            "SAVE COMPLETE NEW ACC: 33.627450980392155\n",
            "Epoch [16/90], Loss: 1.2369\n",
            "Epoch [17/90], Loss: 1.4267\n",
            "Epoch [18/90], Loss: 0.6621\n",
            "Epoch [19/90], Loss: 1.2065\n",
            "Epoch [20/90], Loss: 0.8023\n",
            "SAVE COMPLETE NEW ACC: 34.31372549019608\n",
            "Epoch [21/90], Loss: 1.0791\n",
            "Epoch [22/90], Loss: 0.6508\n",
            "Epoch [23/90], Loss: 0.7988\n",
            "Epoch [24/90], Loss: 1.1802\n",
            "Epoch [25/90], Loss: 1.3258\n",
            "SAVE COMPLETE NEW ACC: 37.15686274509804\n",
            "Epoch [26/90], Loss: 0.7332\n",
            "Epoch [27/90], Loss: 0.7845\n",
            "Epoch [28/90], Loss: 0.6131\n",
            "Epoch [29/90], Loss: 0.9524\n",
            "Epoch [30/90], Loss: 0.2308\n",
            "SAVE COMPLETE NEW ACC: 39.11764705882353\n",
            "Epoch [31/90], Loss: 0.5822\n",
            "Epoch [32/90], Loss: 0.3706\n",
            "Epoch [33/90], Loss: 0.5702\n",
            "Epoch [34/90], Loss: 0.6245\n",
            "Epoch [35/90], Loss: 0.4445\n",
            "SAVE COMPLETE NEW ACC: 39.705882352941174\n",
            "Epoch [36/90], Loss: 0.1892\n",
            "Epoch [37/90], Loss: 0.2328\n",
            "Epoch [38/90], Loss: 0.2534\n",
            "Epoch [39/90], Loss: 0.2142\n",
            "Epoch [40/90], Loss: 0.5233\n",
            "Epoch [41/90], Loss: 0.2490\n",
            "Epoch [42/90], Loss: 0.5845\n",
            "Epoch [43/90], Loss: 0.2589\n",
            "Epoch [44/90], Loss: 0.2587\n",
            "Epoch [45/90], Loss: 0.2965\n",
            "SAVE COMPLETE NEW ACC: 39.80392156862745\n",
            "Epoch [46/90], Loss: 0.1769\n",
            "Epoch [47/90], Loss: 0.2401\n",
            "Epoch [48/90], Loss: 0.2866\n",
            "Epoch [49/90], Loss: 0.4687\n",
            "Epoch [50/90], Loss: 0.2569\n",
            "SAVE COMPLETE NEW ACC: 40.88235294117647\n",
            "Epoch [51/90], Loss: 0.1143\n",
            "Epoch [52/90], Loss: 1.1603\n",
            "Epoch [53/90], Loss: 0.1652\n",
            "Epoch [54/90], Loss: 0.0659\n",
            "Epoch [55/90], Loss: 0.0558\n",
            "Epoch [56/90], Loss: 0.2349\n",
            "Epoch [57/90], Loss: 0.0130\n",
            "Epoch [58/90], Loss: 0.3054\n",
            "Epoch [59/90], Loss: 0.1419\n",
            "Epoch [60/90], Loss: 0.1140\n",
            "Epoch [61/90], Loss: 0.0246\n",
            "Epoch [62/90], Loss: 0.0958\n",
            "Epoch [63/90], Loss: 0.2565\n",
            "Epoch [64/90], Loss: 0.0528\n",
            "Epoch [65/90], Loss: 0.0767\n",
            "Epoch [66/90], Loss: 0.0241\n",
            "Epoch [67/90], Loss: 0.6044\n",
            "Epoch [68/90], Loss: 0.1285\n",
            "Epoch [69/90], Loss: 0.2500\n",
            "Epoch [70/90], Loss: 0.2426\n",
            "Epoch [71/90], Loss: 0.0545\n",
            "Epoch [72/90], Loss: 0.4413\n",
            "Epoch [73/90], Loss: 0.0145\n",
            "Epoch [74/90], Loss: 0.2759\n",
            "Epoch [75/90], Loss: 0.2127\n",
            "Epoch [76/90], Loss: 0.1242\n",
            "Epoch [77/90], Loss: 0.1953\n",
            "Epoch [78/90], Loss: 0.5956\n",
            "Epoch [79/90], Loss: 0.0525\n",
            "Epoch [80/90], Loss: 0.2635\n",
            "Epoch [81/90], Loss: 0.2269\n",
            "Epoch [82/90], Loss: 0.2908\n",
            "Epoch [83/90], Loss: 0.3516\n",
            "Epoch [84/90], Loss: 0.1041\n",
            "Epoch [85/90], Loss: 0.0541\n",
            "Epoch [86/90], Loss: 0.1449\n",
            "Epoch [87/90], Loss: 0.1524\n",
            "Epoch [88/90], Loss: 0.2150\n",
            "Epoch [89/90], Loss: 0.0061\n",
            "Epoch [90/90], Loss: 0.1174\n"
          ]
        }
      ],
      "source": [
        "saveCounter = 0\n",
        "minLoss = 10000\n",
        "valAccurary = 0\n",
        "\n",
        "\n",
        "# We use the pre-defined number of epochs to determine how many iterations to train the network on\n",
        "for epoch in range(num_epochs):\n",
        "\t#Load in the data in batches using the train_loader object\n",
        "    for i, (images, labels) in enumerate(train_dataloader):  \n",
        "        # Move tensors to the configured device\n",
        "        images = images.to(device)\n",
        "        labels = labels.to(device)\n",
        "        \n",
        "        # Forward pass\n",
        "        outputs = net(images)\n",
        "        loss = criterion(outputs, labels)\n",
        "      \n",
        "        \n",
        "        # Backward and optimize\n",
        "        optimizer.zero_grad()\n",
        "        loss.backward()\n",
        "        optimizer.step()\n",
        "\n",
        "    if minLoss > loss and epoch % 5 == 0:\n",
        "        tempAcc = testValidationData(net)\n",
        "        if tempAcc > valAccurary:\n",
        "            valAccurary = tempAcc\n",
        "            saveCounter += 1\n",
        "            save_network(net, saveCounter)\n",
        "            print(\"SAVE COMPLETE NEW ACC:\", valAccurary)\n",
        "\n",
        "\n",
        "    print('Epoch [{}/{}], Loss: {:.4f}'.format(epoch+1, num_epochs, loss.item()))"
      ]
    },
    {
      "cell_type": "code",
      "execution_count": 7,
      "metadata": {
        "id": "BsUH3Yfv47K6",
        "colab": {
          "base_uri": "https://localhost:8080/"
        },
        "outputId": "a1e6805f-ffe5-46a0-e35b-64914362e443"
      },
      "outputs": [
        {
          "output_type": "stream",
          "name": "stdout",
          "text": [
            "Accuracy of the network on the 6149 train images: 36.29858513579444 %\n"
          ]
        }
      ],
      "source": [
        "net.eval()\n",
        "\n",
        "with torch.no_grad():\n",
        "    correct = 0\n",
        "    total = 0\n",
        "    for images, labels in test_dataloader:\n",
        "        images = images.to(device)\n",
        "        labels = labels.to(device)\n",
        "        outputs = net(images)\n",
        "        _, predicted = torch.max(outputs.data, 1)\n",
        "        total += labels.size(0)\n",
        "        correct += (predicted == labels).sum().item()\n",
        "    \n",
        "    print('Accuracy of the network on the {} train images: {} %'.format(total, 100 * correct / total))"
      ]
    },
    {
      "cell_type": "code",
      "execution_count": null,
      "metadata": {
        "id": "V0287sPvFo3l"
      },
      "outputs": [],
      "source": []
    }
  ],
  "metadata": {
    "colab": {
      "provenance": []
    },
    "kernelspec": {
      "display_name": "Python 3 (ipykernel)",
      "language": "python",
      "name": "python3"
    },
    "language_info": {
      "codemirror_mode": {
        "name": "ipython",
        "version": 3
      },
      "file_extension": ".py",
      "mimetype": "text/x-python",
      "name": "python",
      "nbconvert_exporter": "python",
      "pygments_lexer": "ipython3",
      "version": "3.10.9"
    }
  },
  "nbformat": 4,
  "nbformat_minor": 0
}