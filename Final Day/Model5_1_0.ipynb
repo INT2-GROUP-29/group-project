{
  "cells": [
    {
      "cell_type": "code",
      "execution_count": 2,
      "metadata": {
        "id": "q-j3b_Sx4Tb9"
      },
      "outputs": [],
      "source": [
        "import torch\n",
        "from torch import nn\n",
        "from torch.utils.data import DataLoader\n",
        "from torchvision import datasets\n",
        "import torchvision.transforms as transforms"
      ]
    },
    {
      "cell_type": "code",
      "execution_count": 3,
      "metadata": {
        "id": "Be731vWl4Wj1",
        "colab": {
          "base_uri": "https://localhost:8080/"
        },
        "outputId": "86d33a30-a365-420e-f9cf-13e895f2fa75"
      },
      "outputs": [
        {
          "output_type": "stream",
          "name": "stdout",
          "text": [
            "Downloading https://thor.robots.ox.ac.uk/datasets/flowers-102/102flowers.tgz to data/flowers-102/102flowers.tgz\n"
          ]
        },
        {
          "output_type": "stream",
          "name": "stderr",
          "text": [
            "100%|██████████| 344862509/344862509 [00:11<00:00, 30750843.36it/s]\n"
          ]
        },
        {
          "output_type": "stream",
          "name": "stdout",
          "text": [
            "Extracting data/flowers-102/102flowers.tgz to data/flowers-102\n",
            "Downloading https://thor.robots.ox.ac.uk/datasets/flowers-102/imagelabels.mat to data/flowers-102/imagelabels.mat\n"
          ]
        },
        {
          "output_type": "stream",
          "name": "stderr",
          "text": [
            "100%|██████████| 502/502 [00:00<00:00, 493910.53it/s]\n"
          ]
        },
        {
          "output_type": "stream",
          "name": "stdout",
          "text": [
            "Downloading https://thor.robots.ox.ac.uk/datasets/flowers-102/setid.mat to data/flowers-102/setid.mat\n"
          ]
        },
        {
          "output_type": "stream",
          "name": "stderr",
          "text": [
            "100%|██████████| 14989/14989 [00:00<00:00, 16684825.55it/s]\n"
          ]
        }
      ],
      "source": [
        "# Download training data from open datasets.\n",
        "# Guassian blur - how to do: RESEARCH\n",
        "training_data = datasets.Flowers102(\n",
        "    root=\"data\",\n",
        "    split=\"train\",\n",
        "    download=True,\n",
        "    transform = transforms.Compose([transforms.Resize((64, 64)), transforms.ToTensor(), transforms.RandomHorizontalFlip(),\n",
        "                                    transforms.Normalize((0.4914, 0.4822, 0.4465), (0.2023, 0.1994, 0.2010)),\n",
        "                                    transforms.RandomVerticalFlip(), transforms.RandomRotation(45)]),\n",
        ")\n",
        "\n",
        "# Download test data from open datasets.\n",
        "test_data = datasets.Flowers102(\n",
        "    root=\"data\",\n",
        "    split=\"test\",\n",
        "    download=True,\n",
        "    transform = transforms.Compose([transforms.Resize((64, 64)), transforms.ToTensor(),\n",
        "                                   transforms.Normalize((0.4914, 0.4822, 0.4465), (0.2023, 0.1994, 0.2010))]),\n",
        ")\n",
        "\n",
        "# Download test data from open datasets.\n",
        "val_data = datasets.Flowers102(\n",
        "    root=\"data\",\n",
        "    split=\"val\",\n",
        "    download=True,\n",
        "    transform = transforms.Compose([transforms.Resize((64, 64)), transforms.ToTensor(),\n",
        "                                   transforms.Normalize((0.4914, 0.4822, 0.4465), (0.2023, 0.1994, 0.2010))]),\n",
        ")"
      ]
    },
    {
      "cell_type": "code",
      "execution_count": 4,
      "metadata": {
        "id": "9QtjhkqE4ar5"
      },
      "outputs": [],
      "source": [
        "batch_size = 32\n",
        "num_classes = 102\n",
        "learning_rate = 0.001\n",
        "num_epochs = 90\n",
        "\n",
        "# Create data loaders.\n",
        "train_dataloader = DataLoader(training_data, batch_size=batch_size, shuffle=True)\n",
        "test_dataloader = DataLoader(test_data, batch_size=batch_size)\n",
        "val_dataloader = DataLoader(val_data, batch_size=batch_size)"
      ]
    },
    {
      "cell_type": "code",
      "execution_count": 14,
      "metadata": {
        "id": "zuLLmf1t4b82"
      },
      "outputs": [],
      "source": [
        "import torch.nn.functional as F\n",
        "import os\n",
        "\n",
        "class Net(nn.Module):\n",
        "\t#  Determine what layers and their order in CNN object \n",
        "    def __init__(self, num_classes):\n",
        "        super(Net, self).__init__()\n",
        "        self.conv_layer1 = nn.Conv2d(in_channels=3, out_channels=64, kernel_size=3)\n",
        "        self.batch_layer1 = nn.BatchNorm2d(num_features=64) \n",
        "        self.max_pool1 = nn.MaxPool2d(kernel_size = 2, stride = 2)\n",
        "        \n",
        "        self.conv_layer2 = nn.Conv2d(in_channels=64, out_channels=128, kernel_size=3)\n",
        "        self.batch_layer2 = nn.BatchNorm2d(num_features=128)\n",
        "        self.max_pool2 = nn.MaxPool2d(kernel_size = 2, stride = 2)\n",
        "\n",
        "        self.conv_layer3 = nn.Conv2d(in_channels=128, out_channels=256, kernel_size=3)\n",
        "        self.batch_layer3 = nn.BatchNorm2d(num_features=256)\n",
        "        self.max_pool3 = nn.MaxPool2d(kernel_size = 2, stride = 2)\n",
        "\n",
        "        self.conv_layer4 = nn.Conv2d(in_channels=256, out_channels=512, kernel_size=3)\n",
        "        self.batch_layer4 = nn.BatchNorm2d(num_features=512)\n",
        "        self.max_pool4 = nn.MaxPool2d(kernel_size = 2, stride = 2)\n",
        "\n",
        "        self.fc1 = nn.Linear(2048 , 128)\n",
        "        self.relu1 = nn.PReLU()\n",
        "        self.fc2 = nn.Linear(128, num_classes)\n",
        "    \n",
        "\n",
        "    def forward(self, x):\n",
        "        out = self.conv_layer1(x)\n",
        "        out = self.batch_layer1(out)\n",
        "        out = self.relu1(out)\n",
        "        out = self.max_pool1(out)\n",
        "        \n",
        "        out = self.conv_layer2(out)\n",
        "        out = self.batch_layer2(out)\n",
        "        out = self.relu1(out)\n",
        "        out = self.max_pool2(out)\n",
        "\n",
        "        out = self.conv_layer3(out)\n",
        "        out = self.batch_layer3(out)\n",
        "        out = self.relu1(out)\n",
        "        out = self.max_pool3(out)\n",
        "\n",
        "        out = self.conv_layer4(out)\n",
        "        out = self.batch_layer4(out)\n",
        "        out = self.relu1(out)\n",
        "        out = self.max_pool4(out)\n",
        "                \n",
        "        out = out.reshape(out.size(0), -1)\n",
        "        \n",
        "        out = self.fc1(out)\n",
        "        out = self.relu1(out)\n",
        "        out = self.fc2(out)\n",
        "        return out\n",
        "\n",
        "net = Net(num_classes)\n",
        "\n",
        "def save_network(network, epoch_label):\n",
        "    save_filename = 'net_%s.pth' % epoch_label\n",
        "    save_path = os.path.join(save_filename)\n",
        "    torch.save(network.state_dict(), save_path)\n",
        "\n",
        "def testValidationData(network):\n",
        "    net.eval()\n",
        "    with torch.no_grad():\n",
        "        correct = 0\n",
        "        total = 0\n",
        "        for images, labels in val_dataloader:\n",
        "            images = images.to(device)\n",
        "            labels = labels.to(device)\n",
        "            outputs = net(images)\n",
        "            _, predicted = torch.max(outputs.data, 1)\n",
        "            total += labels.size(0)\n",
        "            correct += (predicted == labels).sum().item()\n",
        "        return (100 * correct / total)"
      ]
    },
    {
      "cell_type": "code",
      "execution_count": 15,
      "metadata": {
        "id": "j1nVfQzO4zNS"
      },
      "outputs": [],
      "source": [
        "import torch.optim as optim\n",
        "\n",
        "criterion = nn.CrossEntropyLoss()\n",
        "optimizer = optim.SGD(net.parameters(), lr=learning_rate, momentum=0.9)\n",
        "\n",
        "device = torch.device('cuda' if torch.cuda.is_available() else 'cpu')"
      ]
    },
    {
      "cell_type": "code",
      "execution_count": 16,
      "metadata": {
        "colab": {
          "base_uri": "https://localhost:8080/"
        },
        "id": "5-Ag8ogm4za3",
        "outputId": "fa31e2f9-b136-46f5-d24a-25fb3f602e9b",
        "scrolled": true
      },
      "outputs": [
        {
          "output_type": "stream",
          "name": "stdout",
          "text": [
            "SAVE COMPLETE NEW ACC: 4.901960784313726\n",
            "Epoch [1/90], Loss: 4.5648\n",
            "Epoch [2/90], Loss: 4.4316\n",
            "Epoch [3/90], Loss: 3.7412\n",
            "Epoch [4/90], Loss: 3.6840\n",
            "Epoch [5/90], Loss: 4.0180\n",
            "SAVE COMPLETE NEW ACC: 18.725490196078432\n",
            "Epoch [6/90], Loss: 3.3170\n",
            "Epoch [7/90], Loss: 3.0018\n",
            "Epoch [8/90], Loss: 2.6608\n",
            "Epoch [9/90], Loss: 2.9550\n",
            "Epoch [10/90], Loss: 3.1719\n",
            "SAVE COMPLETE NEW ACC: 26.96078431372549\n",
            "Epoch [11/90], Loss: 2.4639\n",
            "Epoch [12/90], Loss: 2.5050\n",
            "Epoch [13/90], Loss: 2.4887\n",
            "Epoch [14/90], Loss: 2.5591\n",
            "Epoch [15/90], Loss: 1.9132\n",
            "SAVE COMPLETE NEW ACC: 29.41176470588235\n",
            "Epoch [16/90], Loss: 2.7289\n",
            "Epoch [17/90], Loss: 1.2736\n",
            "Epoch [18/90], Loss: 1.5942\n",
            "Epoch [19/90], Loss: 1.7134\n",
            "Epoch [20/90], Loss: 1.4764\n",
            "SAVE COMPLETE NEW ACC: 32.745098039215684\n",
            "Epoch [21/90], Loss: 2.0088\n",
            "Epoch [22/90], Loss: 1.4947\n",
            "Epoch [23/90], Loss: 1.5764\n",
            "Epoch [24/90], Loss: 1.8318\n",
            "Epoch [25/90], Loss: 1.5569\n",
            "SAVE COMPLETE NEW ACC: 33.8235294117647\n",
            "Epoch [26/90], Loss: 1.3296\n",
            "Epoch [27/90], Loss: 1.3098\n",
            "Epoch [28/90], Loss: 0.8271\n",
            "Epoch [29/90], Loss: 0.9473\n",
            "Epoch [30/90], Loss: 1.3191\n",
            "SAVE COMPLETE NEW ACC: 38.431372549019606\n",
            "Epoch [31/90], Loss: 0.9860\n",
            "Epoch [32/90], Loss: 1.0856\n",
            "Epoch [33/90], Loss: 0.6037\n",
            "Epoch [34/90], Loss: 0.7804\n",
            "Epoch [35/90], Loss: 1.0241\n",
            "SAVE COMPLETE NEW ACC: 38.72549019607843\n",
            "Epoch [36/90], Loss: 1.2173\n",
            "Epoch [37/90], Loss: 0.6223\n",
            "Epoch [38/90], Loss: 0.6488\n",
            "Epoch [39/90], Loss: 0.8299\n",
            "Epoch [40/90], Loss: 0.4596\n",
            "SAVE COMPLETE NEW ACC: 41.666666666666664\n",
            "Epoch [41/90], Loss: 0.6795\n",
            "Epoch [42/90], Loss: 0.5555\n",
            "Epoch [43/90], Loss: 0.8134\n",
            "Epoch [44/90], Loss: 0.3308\n",
            "Epoch [45/90], Loss: 0.3283\n",
            "Epoch [46/90], Loss: 0.3997\n",
            "Epoch [47/90], Loss: 0.1387\n",
            "Epoch [48/90], Loss: 0.6196\n",
            "Epoch [49/90], Loss: 0.3982\n",
            "Epoch [50/90], Loss: 0.2151\n",
            "SAVE COMPLETE NEW ACC: 44.01960784313726\n",
            "Epoch [51/90], Loss: 0.6795\n",
            "Epoch [52/90], Loss: 0.1876\n",
            "Epoch [53/90], Loss: 0.3387\n",
            "Epoch [54/90], Loss: 0.2380\n",
            "Epoch [55/90], Loss: 0.1406\n",
            "SAVE COMPLETE NEW ACC: 44.6078431372549\n",
            "Epoch [56/90], Loss: 0.1249\n",
            "Epoch [57/90], Loss: 0.3563\n",
            "Epoch [58/90], Loss: 0.0592\n",
            "Epoch [59/90], Loss: 0.1538\n",
            "Epoch [60/90], Loss: 0.0784\n",
            "Epoch [61/90], Loss: 0.0869\n",
            "Epoch [62/90], Loss: 0.1601\n",
            "Epoch [63/90], Loss: 0.0819\n",
            "Epoch [64/90], Loss: 0.3315\n",
            "Epoch [65/90], Loss: 0.1299\n",
            "Epoch [66/90], Loss: 0.1367\n",
            "Epoch [67/90], Loss: 0.1105\n",
            "Epoch [68/90], Loss: 0.1028\n",
            "Epoch [69/90], Loss: 0.1144\n",
            "Epoch [70/90], Loss: 0.1074\n",
            "SAVE COMPLETE NEW ACC: 45.19607843137255\n",
            "Epoch [71/90], Loss: 0.1101\n",
            "Epoch [72/90], Loss: 0.0308\n",
            "Epoch [73/90], Loss: 0.0428\n",
            "Epoch [74/90], Loss: 0.1634\n",
            "Epoch [75/90], Loss: 0.1289\n",
            "SAVE COMPLETE NEW ACC: 45.294117647058826\n",
            "Epoch [76/90], Loss: 0.4090\n",
            "Epoch [77/90], Loss: 0.0215\n",
            "Epoch [78/90], Loss: 0.1531\n",
            "Epoch [79/90], Loss: 0.0706\n",
            "Epoch [80/90], Loss: 0.1532\n",
            "Epoch [81/90], Loss: 0.0260\n",
            "Epoch [82/90], Loss: 0.0321\n",
            "Epoch [83/90], Loss: 0.3912\n",
            "Epoch [84/90], Loss: 0.2295\n",
            "Epoch [85/90], Loss: 0.3167\n",
            "Epoch [86/90], Loss: 0.0341\n",
            "Epoch [87/90], Loss: 0.1338\n",
            "Epoch [88/90], Loss: 0.0816\n",
            "Epoch [89/90], Loss: 0.0477\n",
            "Epoch [90/90], Loss: 0.0204\n"
          ]
        }
      ],
      "source": [
        "saveCounter = 0\n",
        "minLoss = 10000\n",
        "valAccurary = 0\n",
        "\n",
        "\n",
        "# We use the pre-defined number of epochs to determine how many iterations to train the network on\n",
        "for epoch in range(num_epochs):\n",
        "\t#Load in the data in batches using the train_loader object\n",
        "    for i, (images, labels) in enumerate(train_dataloader):  \n",
        "        # Move tensors to the configured device\n",
        "        images = images.to(device)\n",
        "        labels = labels.to(device)\n",
        "        \n",
        "        # Forward pass\n",
        "        outputs = net(images)\n",
        "        loss = criterion(outputs, labels)\n",
        "      \n",
        "        \n",
        "        # Backward and optimize\n",
        "        optimizer.zero_grad()\n",
        "        loss.backward()\n",
        "        optimizer.step()\n",
        "\n",
        "    if minLoss > loss and epoch % 5 == 0:\n",
        "        tempAcc = testValidationData(net)\n",
        "        if tempAcc > valAccurary:\n",
        "            valAccurary = tempAcc\n",
        "            saveCounter += 1\n",
        "            save_network(net, saveCounter)\n",
        "            print(\"SAVE COMPLETE NEW ACC:\", valAccurary)\n",
        "\n",
        "\n",
        "    print('Epoch [{}/{}], Loss: {:.4f}'.format(epoch+1, num_epochs, loss.item()))"
      ]
    },
    {
      "cell_type": "code",
      "execution_count": 17,
      "metadata": {
        "id": "BsUH3Yfv47K6",
        "colab": {
          "base_uri": "https://localhost:8080/"
        },
        "outputId": "8edcba38-3eb1-4482-d13c-6857c7a7946f"
      },
      "outputs": [
        {
          "output_type": "stream",
          "name": "stdout",
          "text": [
            "Accuracy of the network on the 6149 train images: 42.413400552935435 %\n"
          ]
        }
      ],
      "source": [
        "net.eval()\n",
        "\n",
        "with torch.no_grad():\n",
        "    correct = 0\n",
        "    total = 0\n",
        "    for images, labels in test_dataloader:\n",
        "        images = images.to(device)\n",
        "        labels = labels.to(device)\n",
        "        outputs = net(images)\n",
        "        _, predicted = torch.max(outputs.data, 1)\n",
        "        total += labels.size(0)\n",
        "        correct += (predicted == labels).sum().item()\n",
        "    \n",
        "    print('Accuracy of the network on the {} train images: {} %'.format(total, 100 * correct / total))"
      ]
    },
    {
      "cell_type": "code",
      "execution_count": null,
      "metadata": {
        "id": "V0287sPvFo3l"
      },
      "outputs": [],
      "source": []
    }
  ],
  "metadata": {
    "colab": {
      "provenance": []
    },
    "kernelspec": {
      "display_name": "Python 3 (ipykernel)",
      "language": "python",
      "name": "python3"
    },
    "language_info": {
      "codemirror_mode": {
        "name": "ipython",
        "version": 3
      },
      "file_extension": ".py",
      "mimetype": "text/x-python",
      "name": "python",
      "nbconvert_exporter": "python",
      "pygments_lexer": "ipython3",
      "version": "3.10.9"
    }
  },
  "nbformat": 4,
  "nbformat_minor": 0
}