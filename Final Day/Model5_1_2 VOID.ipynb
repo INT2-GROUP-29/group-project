{
  "cells": [
    {
      "cell_type": "code",
      "execution_count": 1,
      "metadata": {
        "id": "q-j3b_Sx4Tb9"
      },
      "outputs": [],
      "source": [
        "import torch\n",
        "from torch import nn\n",
        "from torch.utils.data import DataLoader\n",
        "from torchvision import datasets\n",
        "import torchvision.transforms as transforms"
      ]
    },
    {
      "cell_type": "code",
      "execution_count": 2,
      "metadata": {
        "id": "Be731vWl4Wj1",
        "colab": {
          "base_uri": "https://localhost:8080/"
        },
        "outputId": "aa2c6c10-7a3c-4db7-d67d-a6e59ea934c5"
      },
      "outputs": [
        {
          "output_type": "stream",
          "name": "stdout",
          "text": [
            "Downloading https://thor.robots.ox.ac.uk/datasets/flowers-102/102flowers.tgz to data/flowers-102/102flowers.tgz\n"
          ]
        },
        {
          "output_type": "stream",
          "name": "stderr",
          "text": [
            "100%|██████████| 344862509/344862509 [00:11<00:00, 30209729.69it/s]\n"
          ]
        },
        {
          "output_type": "stream",
          "name": "stdout",
          "text": [
            "Extracting data/flowers-102/102flowers.tgz to data/flowers-102\n",
            "Downloading https://thor.robots.ox.ac.uk/datasets/flowers-102/imagelabels.mat to data/flowers-102/imagelabels.mat\n"
          ]
        },
        {
          "output_type": "stream",
          "name": "stderr",
          "text": [
            "100%|██████████| 502/502 [00:00<00:00, 960995.26it/s]\n"
          ]
        },
        {
          "output_type": "stream",
          "name": "stdout",
          "text": [
            "Downloading https://thor.robots.ox.ac.uk/datasets/flowers-102/setid.mat to data/flowers-102/setid.mat\n"
          ]
        },
        {
          "output_type": "stream",
          "name": "stderr",
          "text": [
            "100%|██████████| 14989/14989 [00:00<00:00, 8967112.06it/s]\n"
          ]
        }
      ],
      "source": [
        "# Download training data from open datasets.\n",
        "# Guassian blur - how to do: RESEARCH\n",
        "training_data = datasets.Flowers102(\n",
        "    root=\"data\",\n",
        "    split=\"train\",\n",
        "    download=True,\n",
        "    transform = transforms.Compose([transforms.Resize((64, 64)), transforms.ToTensor(), transforms.RandomHorizontalFlip(),\n",
        "                                    transforms.Normalize((0.4914, 0.4822, 0.4465), (0.2023, 0.1994, 0.2010)),\n",
        "                                    transforms.RandomVerticalFlip(), transforms.RandomRotation(45)]),\n",
        ")\n",
        "\n",
        "# Download test data from open datasets.\n",
        "test_data = datasets.Flowers102(\n",
        "    root=\"data\",\n",
        "    split=\"test\",\n",
        "    download=True,\n",
        "    transform = transforms.Compose([transforms.Resize((64, 64)), transforms.ToTensor(),\n",
        "                                   transforms.Normalize((0.4914, 0.4822, 0.4465), (0.2023, 0.1994, 0.2010))]),\n",
        ")\n",
        "\n",
        "# Download test data from open datasets.\n",
        "val_data = datasets.Flowers102(\n",
        "    root=\"data\",\n",
        "    split=\"val\",\n",
        "    download=True,\n",
        "    transform = transforms.Compose([transforms.Resize((64, 64)), transforms.ToTensor(),\n",
        "                                   transforms.Normalize((0.4914, 0.4822, 0.4465), (0.2023, 0.1994, 0.2010))]),\n",
        ")"
      ]
    },
    {
      "cell_type": "code",
      "execution_count": 3,
      "metadata": {
        "id": "9QtjhkqE4ar5"
      },
      "outputs": [],
      "source": [
        "batch_size = 32\n",
        "num_classes = 102\n",
        "learning_rate = 0.001\n",
        "num_epochs = 90\n",
        "\n",
        "# Create data loaders.\n",
        "train_dataloader = DataLoader(training_data, batch_size=batch_size, shuffle=True)\n",
        "test_dataloader = DataLoader(test_data, batch_size=batch_size)\n",
        "val_dataloader = DataLoader(val_data, batch_size=batch_size)"
      ]
    },
    {
      "cell_type": "code",
      "execution_count": 4,
      "metadata": {
        "id": "zuLLmf1t4b82"
      },
      "outputs": [],
      "source": [
        "import torch.nn.functional as F\n",
        "import os\n",
        "\n",
        "class Net(nn.Module):\n",
        "\t#  Determine what layers and their order in CNN object \n",
        "    def __init__(self, num_classes):\n",
        "        super(Net, self).__init__()\n",
        "        self.conv_layer1 = nn.Conv2d(in_channels=3, out_channels=64, kernel_size=3)\n",
        "        self.batch_layer1 = nn.BatchNorm2d(num_features=64) \n",
        "        self.max_pool1 = nn.MaxPool2d(kernel_size = 2, stride = 2)\n",
        "        \n",
        "        self.conv_layer2 = nn.Conv2d(in_channels=64, out_channels=128, kernel_size=3)\n",
        "        self.batch_layer2 = nn.BatchNorm2d(num_features=128)\n",
        "        self.max_pool2 = nn.MaxPool2d(kernel_size = 2, stride = 2)\n",
        "\n",
        "        self.conv_layer3 = nn.Conv2d(in_channels=128, out_channels=256, kernel_size=3)\n",
        "        self.batch_layer3 = nn.BatchNorm2d(num_features=256)\n",
        "        self.max_pool3 = nn.MaxPool2d(kernel_size = 2, stride = 2)\n",
        "\n",
        "        self.conv_layer4 = nn.Conv2d(in_channels=256, out_channels=512, kernel_size=3)\n",
        "        self.batch_layer4 = nn.BatchNorm2d(num_features=512)\n",
        "        self.max_pool4 = nn.AvgPool2d(kernel_size = 2, stride = 2)\n",
        "\n",
        "        self.fc1 = nn.Linear(2048 , 128)\n",
        "        self.relu1 = nn.PReLU()\n",
        "        self.fc2 = nn.Linear(128, num_classes)\n",
        "    \n",
        "\n",
        "    def forward(self, x):\n",
        "        out = self.conv_layer1(x)\n",
        "        out = self.batch_layer1(out)\n",
        "        out = self.relu1(out)\n",
        "        out = self.max_pool1(out)\n",
        "        \n",
        "        out = self.conv_layer2(out)\n",
        "        out = self.batch_layer2(out)\n",
        "        out = self.relu1(out)\n",
        "        out = self.max_pool2(out)\n",
        "\n",
        "        out = self.conv_layer3(out)\n",
        "        out = self.batch_layer3(out)\n",
        "        out = self.relu1(out)\n",
        "        out = self.max_pool3(out)\n",
        "\n",
        "        out = self.conv_layer4(out)\n",
        "        out = self.batch_layer4(out)\n",
        "        out = self.relu1(out)\n",
        "        out = self.max_pool4(out)\n",
        "                \n",
        "        out = out.reshape(out.size(0), -1)\n",
        "        \n",
        "        out = self.fc1(out)\n",
        "        out = self.relu1(out)\n",
        "        out = self.fc2(out)\n",
        "        return out\n",
        "\n",
        "net = Net(num_classes)\n",
        "\n",
        "def save_network(network, epoch_label):\n",
        "    save_filename = 'net_%s.pth' % epoch_label\n",
        "    save_path = os.path.join(save_filename)\n",
        "    torch.save(network.state_dict(), save_path)\n",
        "\n",
        "def testValidationData(network):\n",
        "    net.eval()\n",
        "    with torch.no_grad():\n",
        "        correct = 0\n",
        "        total = 0\n",
        "        for images, labels in val_dataloader:\n",
        "            images = images.to(device)\n",
        "            labels = labels.to(device)\n",
        "            outputs = net(images)\n",
        "            _, predicted = torch.max(outputs.data, 1)\n",
        "            total += labels.size(0)\n",
        "            correct += (predicted == labels).sum().item()\n",
        "        return (100 * correct / total)"
      ]
    },
    {
      "cell_type": "code",
      "execution_count": 5,
      "metadata": {
        "id": "j1nVfQzO4zNS"
      },
      "outputs": [],
      "source": [
        "import torch.optim as optim\n",
        "\n",
        "criterion = nn.CrossEntropyLoss()\n",
        "optimizer = optim.Adam(net.parameters(), lr=learning_rate)\n",
        "\n",
        "device = torch.device('cuda' if torch.cuda.is_available() else 'cpu')"
      ]
    },
    {
      "cell_type": "code",
      "execution_count": 6,
      "metadata": {
        "colab": {
          "base_uri": "https://localhost:8080/"
        },
        "id": "5-Ag8ogm4za3",
        "outputId": "41ba4b24-bf98-4166-81c7-9a92a20fc3ca",
        "scrolled": true
      },
      "outputs": [
        {
          "output_type": "stream",
          "name": "stdout",
          "text": [
            "SAVE COMPLETE NEW ACC: 6.470588235294118\n",
            "Epoch [1/90], Loss: 3.9477\n",
            "Epoch [2/90], Loss: 4.1842\n",
            "Epoch [3/90], Loss: 3.6923\n",
            "Epoch [4/90], Loss: 3.0564\n",
            "Epoch [5/90], Loss: 3.0371\n",
            "SAVE COMPLETE NEW ACC: 21.764705882352942\n",
            "Epoch [6/90], Loss: 2.4877\n",
            "Epoch [7/90], Loss: 3.3843\n",
            "Epoch [8/90], Loss: 2.7728\n",
            "Epoch [9/90], Loss: 2.6883\n",
            "Epoch [10/90], Loss: 2.3063\n",
            "SAVE COMPLETE NEW ACC: 28.431372549019606\n",
            "Epoch [11/90], Loss: 2.3615\n",
            "Epoch [12/90], Loss: 1.9442\n",
            "Epoch [13/90], Loss: 2.3709\n",
            "Epoch [14/90], Loss: 2.1855\n",
            "Epoch [15/90], Loss: 1.7950\n",
            "SAVE COMPLETE NEW ACC: 32.745098039215684\n",
            "Epoch [16/90], Loss: 1.4022\n",
            "Epoch [17/90], Loss: 1.4291\n",
            "Epoch [18/90], Loss: 2.1600\n",
            "Epoch [19/90], Loss: 1.4727\n",
            "Epoch [20/90], Loss: 0.9951\n",
            "SAVE COMPLETE NEW ACC: 36.568627450980394\n",
            "Epoch [21/90], Loss: 1.0574\n",
            "Epoch [22/90], Loss: 0.7506\n",
            "Epoch [23/90], Loss: 0.6361\n",
            "Epoch [24/90], Loss: 0.8016\n",
            "Epoch [25/90], Loss: 1.0727\n",
            "SAVE COMPLETE NEW ACC: 37.94117647058823\n",
            "Epoch [26/90], Loss: 0.4692\n",
            "Epoch [27/90], Loss: 0.8780\n",
            "Epoch [28/90], Loss: 0.4520\n",
            "Epoch [29/90], Loss: 0.3043\n",
            "Epoch [30/90], Loss: 0.5062\n",
            "SAVE COMPLETE NEW ACC: 38.72549019607843\n",
            "Epoch [31/90], Loss: 0.4415\n",
            "Epoch [32/90], Loss: 0.3295\n",
            "Epoch [33/90], Loss: 0.2530\n",
            "Epoch [34/90], Loss: 0.6002\n",
            "Epoch [35/90], Loss: 0.4075\n",
            "Epoch [36/90], Loss: 0.3376\n",
            "Epoch [37/90], Loss: 0.3585\n",
            "Epoch [38/90], Loss: 0.6127\n",
            "Epoch [39/90], Loss: 0.1632\n",
            "Epoch [40/90], Loss: 0.5533\n",
            "SAVE COMPLETE NEW ACC: 40.0\n",
            "Epoch [41/90], Loss: 0.0706\n",
            "Epoch [42/90], Loss: 0.6401\n",
            "Epoch [43/90], Loss: 0.0884\n",
            "Epoch [44/90], Loss: 0.2597\n",
            "Epoch [45/90], Loss: 0.5585\n",
            "SAVE COMPLETE NEW ACC: 43.03921568627451\n",
            "Epoch [46/90], Loss: 0.1142\n",
            "Epoch [47/90], Loss: 0.3440\n",
            "Epoch [48/90], Loss: 0.4322\n",
            "Epoch [49/90], Loss: 0.1520\n",
            "Epoch [50/90], Loss: 0.1593\n",
            "Epoch [51/90], Loss: 0.2581\n",
            "Epoch [52/90], Loss: 0.1179\n",
            "Epoch [53/90], Loss: 0.1012\n",
            "Epoch [54/90], Loss: 0.5059\n",
            "Epoch [55/90], Loss: 0.1893\n",
            "Epoch [56/90], Loss: 0.2138\n",
            "Epoch [57/90], Loss: 0.0898\n",
            "Epoch [58/90], Loss: 0.0826\n",
            "Epoch [59/90], Loss: 0.0519\n",
            "Epoch [60/90], Loss: 0.4262\n",
            "Epoch [61/90], Loss: 0.4649\n",
            "Epoch [62/90], Loss: 0.1008\n",
            "Epoch [63/90], Loss: 0.0207\n",
            "Epoch [64/90], Loss: 0.0094\n",
            "Epoch [65/90], Loss: 0.1441\n",
            "Epoch [66/90], Loss: 0.0700\n",
            "Epoch [67/90], Loss: 0.1274\n",
            "Epoch [68/90], Loss: 0.3100\n",
            "Epoch [69/90], Loss: 0.2581\n",
            "Epoch [70/90], Loss: 0.1378\n",
            "Epoch [71/90], Loss: 0.1345\n",
            "Epoch [72/90], Loss: 0.4576\n",
            "Epoch [73/90], Loss: 0.1112\n",
            "Epoch [74/90], Loss: 0.1257\n",
            "Epoch [75/90], Loss: 0.2786\n",
            "Epoch [76/90], Loss: 0.1126\n",
            "Epoch [77/90], Loss: 0.2494\n",
            "Epoch [78/90], Loss: 0.0109\n",
            "Epoch [79/90], Loss: 0.0079\n",
            "Epoch [80/90], Loss: 0.0230\n",
            "Epoch [81/90], Loss: 0.1196\n",
            "Epoch [82/90], Loss: 0.2989\n",
            "Epoch [83/90], Loss: 0.0349\n",
            "Epoch [84/90], Loss: 0.0178\n",
            "Epoch [85/90], Loss: 0.0008\n",
            "Epoch [86/90], Loss: 0.1211\n",
            "Epoch [87/90], Loss: 0.5849\n",
            "Epoch [88/90], Loss: 0.0439\n",
            "Epoch [89/90], Loss: 0.2339\n",
            "Epoch [90/90], Loss: 0.1763\n"
          ]
        }
      ],
      "source": [
        "saveCounter = 0\n",
        "minLoss = 10000\n",
        "valAccurary = 0\n",
        "\n",
        "\n",
        "# We use the pre-defined number of epochs to determine how many iterations to train the network on\n",
        "for epoch in range(num_epochs):\n",
        "\t#Load in the data in batches using the train_loader object\n",
        "    for i, (images, labels) in enumerate(train_dataloader):  \n",
        "        # Move tensors to the configured device\n",
        "        images = images.to(device)\n",
        "        labels = labels.to(device)\n",
        "        \n",
        "        # Forward pass\n",
        "        outputs = net(images)\n",
        "        loss = criterion(outputs, labels)\n",
        "      \n",
        "        \n",
        "        # Backward and optimize\n",
        "        optimizer.zero_grad()\n",
        "        loss.backward()\n",
        "        optimizer.step()\n",
        "\n",
        "    if minLoss > loss and epoch % 5 == 0:\n",
        "        tempAcc = testValidationData(net)\n",
        "        if tempAcc > valAccurary:\n",
        "            valAccurary = tempAcc\n",
        "            saveCounter += 1\n",
        "            save_network(net, saveCounter)\n",
        "            print(\"SAVE COMPLETE NEW ACC:\", valAccurary)\n",
        "\n",
        "\n",
        "    print('Epoch [{}/{}], Loss: {:.4f}'.format(epoch+1, num_epochs, loss.item()))"
      ]
    },
    {
      "cell_type": "code",
      "execution_count": 7,
      "metadata": {
        "id": "BsUH3Yfv47K6",
        "colab": {
          "base_uri": "https://localhost:8080/"
        },
        "outputId": "0c1481de-0545-48d5-900f-e8b38f540560"
      },
      "outputs": [
        {
          "output_type": "stream",
          "name": "stdout",
          "text": [
            "Accuracy of the network on the 6149 train images: 34.63977882582534 %\n"
          ]
        }
      ],
      "source": [
        "net.eval()\n",
        "\n",
        "with torch.no_grad():\n",
        "    correct = 0\n",
        "    total = 0\n",
        "    for images, labels in test_dataloader:\n",
        "        images = images.to(device)\n",
        "        labels = labels.to(device)\n",
        "        outputs = net(images)\n",
        "        _, predicted = torch.max(outputs.data, 1)\n",
        "        total += labels.size(0)\n",
        "        correct += (predicted == labels).sum().item()\n",
        "    \n",
        "    print('Accuracy of the network on the {} train images: {} %'.format(total, 100 * correct / total))"
      ]
    },
    {
      "cell_type": "code",
      "execution_count": null,
      "metadata": {
        "id": "V0287sPvFo3l"
      },
      "outputs": [],
      "source": []
    }
  ],
  "metadata": {
    "colab": {
      "provenance": []
    },
    "kernelspec": {
      "display_name": "Python 3 (ipykernel)",
      "language": "python",
      "name": "python3"
    },
    "language_info": {
      "codemirror_mode": {
        "name": "ipython",
        "version": 3
      },
      "file_extension": ".py",
      "mimetype": "text/x-python",
      "name": "python",
      "nbconvert_exporter": "python",
      "pygments_lexer": "ipython3",
      "version": "3.10.9"
    }
  },
  "nbformat": 4,
  "nbformat_minor": 0
}