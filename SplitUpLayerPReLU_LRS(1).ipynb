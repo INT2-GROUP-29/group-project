{
  "cells": [
    {
      "cell_type": "code",
      "execution_count": 2,
      "metadata": {
        "id": "q-j3b_Sx4Tb9"
      },
      "outputs": [],
      "source": [
        "import torch\n",
        "from torch import nn\n",
        "from torch.utils.data import DataLoader\n",
        "from torchvision import datasets\n",
        "import torchvision.transforms as transforms\n",
        "import torch.optim.lr_scheduler as lr_scheduler"
      ]
    },
    {
      "cell_type": "code",
      "execution_count": 3,
      "metadata": {
        "id": "Be731vWl4Wj1",
        "colab": {
          "base_uri": "https://localhost:8080/"
        },
        "outputId": "0aeb8d4b-dc2f-498d-fe17-275def34c970"
      },
      "outputs": [
        {
          "output_type": "stream",
          "name": "stdout",
          "text": [
            "Downloading https://thor.robots.ox.ac.uk/datasets/flowers-102/102flowers.tgz to data/flowers-102/102flowers.tgz\n"
          ]
        },
        {
          "output_type": "stream",
          "name": "stderr",
          "text": [
            "100%|██████████| 344862509/344862509 [00:17<00:00, 19924775.17it/s]\n"
          ]
        },
        {
          "output_type": "stream",
          "name": "stdout",
          "text": [
            "Extracting data/flowers-102/102flowers.tgz to data/flowers-102\n",
            "Downloading https://thor.robots.ox.ac.uk/datasets/flowers-102/imagelabels.mat to data/flowers-102/imagelabels.mat\n"
          ]
        },
        {
          "output_type": "stream",
          "name": "stderr",
          "text": [
            "100%|██████████| 502/502 [00:00<00:00, 458224.29it/s]\n"
          ]
        },
        {
          "output_type": "stream",
          "name": "stdout",
          "text": [
            "Downloading https://thor.robots.ox.ac.uk/datasets/flowers-102/setid.mat to data/flowers-102/setid.mat\n"
          ]
        },
        {
          "output_type": "stream",
          "name": "stderr",
          "text": [
            "100%|██████████| 14989/14989 [00:00<00:00, 28217424.89it/s]\n"
          ]
        }
      ],
      "source": [
        "# Download training data from open datasets.\n",
        "# Guassian blur - how to do: RESEARCH\n",
        "training_data = datasets.Flowers102(\n",
        "    root=\"data\",\n",
        "    split=\"train\",\n",
        "    download=True,\n",
        "    transform = transforms.Compose([transforms.Resize((64, 64)), transforms.ToTensor(), transforms.RandomHorizontalFlip(),\n",
        "                                    transforms.Normalize((0.4914, 0.4822, 0.4465), (0.2023, 0.1994, 0.2010)),\n",
        "                                    transforms.RandomVerticalFlip(), transforms.RandomRotation(45),\n",
        "                                    transforms.ColorJitter(brightness=(0.5,1.5),contrast=(1),saturation=(0.5,1.5),hue=(-0.1,0.1))]),\n",
        ")\n",
        "\n",
        "# Download test data from open datasets.\n",
        "test_data = datasets.Flowers102(\n",
        "    root=\"data\",\n",
        "    split=\"test\",\n",
        "    download=True,\n",
        "    transform = transforms.Compose([transforms.Resize((64, 64)), transforms.ToTensor(),\n",
        "                                   transforms.Normalize((0.4914, 0.4822, 0.4465), (0.2023, 0.1994, 0.2010))]),\n",
        ")\n",
        "\n",
        "# Download test data from open datasets.\n",
        "val_data = datasets.Flowers102(\n",
        "    root=\"data\",\n",
        "    split=\"val\",\n",
        "    download=True,\n",
        "    transform = transforms.Compose([transforms.Resize((64, 64)), transforms.ToTensor(),\n",
        "                                   transforms.Normalize((0.4914, 0.4822, 0.4465), (0.2023, 0.1994, 0.2010))]),\n",
        ")"
      ]
    },
    {
      "cell_type": "code",
      "execution_count": 4,
      "metadata": {
        "id": "9QtjhkqE4ar5"
      },
      "outputs": [],
      "source": [
        "batch_size = 32\n",
        "num_classes = 102\n",
        "learning_rate = 0.001\n",
        "num_epochs = 500\n",
        "\n",
        "# Create data loaders.\n",
        "train_dataloader = DataLoader(training_data, batch_size=batch_size, shuffle=True)\n",
        "test_dataloader = DataLoader(test_data, batch_size=batch_size)\n",
        "val_dataloader = DataLoader(val_data, batch_size=batch_size)"
      ]
    },
    {
      "cell_type": "code",
      "execution_count": 5,
      "metadata": {
        "id": "zuLLmf1t4b82"
      },
      "outputs": [],
      "source": [
        "import torch.nn.functional as F\n",
        "import os\n",
        "\n",
        "class Net(nn.Module):\n",
        "\t#  Determine what layers and their order in CNN object \n",
        "    def __init__(self, num_classes):\n",
        "        super(Net, self).__init__()\n",
        "        self.conv_layer1 = nn.Conv2d(in_channels=3, out_channels=64, kernel_size=3)\n",
        "        self.batch_layer1 = nn.BatchNorm2d(num_features=64) \n",
        "        self.max_pool1 = nn.MaxPool2d(kernel_size = 2, stride = 2)\n",
        "        \n",
        "        self.conv_layer2 = nn.Conv2d(in_channels=64, out_channels=128, kernel_size=3)\n",
        "        self.batch_layer2 = nn.BatchNorm2d(num_features=128) \n",
        "        self.max_pool2 = nn.MaxPool2d(kernel_size = 2, stride = 2)\n",
        "        \n",
        "        self.conv_layer3 = nn.Conv2d(in_channels=128, out_channels=256, kernel_size=3)\n",
        "        self.batch_layer3 = nn.BatchNorm2d(num_features=256)\n",
        "        self.max_pool3 = nn.MaxPool2d(kernel_size = 2, stride = 2)\n",
        "\n",
        "        self.conv_layer4 = nn.Conv2d(in_channels=256, out_channels=512, kernel_size=3)\n",
        "        self.batch_layer4 = nn.BatchNorm2d(num_features=512)\n",
        "        self.max_pool4 = nn.MaxPool2d(kernel_size = 2, stride = 2)\n",
        "\n",
        "        self.fc1 = nn.Linear(2048 , 1024)\n",
        "        self.dropout = nn.Dropout(0.25)\n",
        "        self.relu1 = nn.PReLU()\n",
        "        self.fc2 = nn.Linear(1024, num_classes)\n",
        "    \n",
        "\n",
        "    def forward(self, x):\n",
        "        #print(str(x.size()))\n",
        "        out = self.conv_layer1(x)\n",
        "        out = self.batch_layer1(out)\n",
        "        out = self.relu1(out)\n",
        "        out = self.max_pool1(out)\n",
        "        \n",
        "        out = self.conv_layer2(out)\n",
        "        out = self.batch_layer2(out)\n",
        "        out = self.relu1(out)\n",
        "        out = self.max_pool2(out)\n",
        "        \n",
        "        out = self.conv_layer3(out)\n",
        "        out = self.batch_layer3(out)\n",
        "        out = self.relu1(out)\n",
        "        out = self.max_pool3(out)\n",
        "\n",
        "        out = self.conv_layer4(out)\n",
        "        out = self.batch_layer4(out)\n",
        "        out = self.relu1(out)\n",
        "        out = self.max_pool4(out)\n",
        "              \n",
        "        out = out.reshape(out.size(0), -1)\n",
        "        \n",
        "        out = self.fc1(out)\n",
        "        out = self.dropout(out)\n",
        "        out = self.relu1(out)\n",
        "        out = self.fc2(out)\n",
        "        return out\n",
        "\n",
        "net = Net(num_classes)\n",
        "\n",
        "def save_network(network, epoch_label):\n",
        "    save_filename = 'net_%s.pth' % epoch_label\n",
        "    save_path = os.path.join(save_filename)\n",
        "    torch.save(network.state_dict(), save_path)\n",
        "    \n",
        "def testValidationData(network):\n",
        "    net.eval()\n",
        "    with torch.no_grad():\n",
        "        correct = 0\n",
        "        total = 0\n",
        "        for images, labels in val_dataloader:\n",
        "            images = images.to(device)\n",
        "            labels = labels.to(device)\n",
        "            outputs = net(images)\n",
        "            _, predicted = torch.max(outputs.data, 1)\n",
        "            total += labels.size(0)\n",
        "            correct += (predicted == labels).sum().item()\n",
        "        return (100 * correct / total)"
      ]
    },
    {
      "cell_type": "code",
      "execution_count": 6,
      "metadata": {
        "id": "j1nVfQzO4zNS"
      },
      "outputs": [],
      "source": [
        "import torch.optim as optim\n",
        "\n",
        "criterion = nn.CrossEntropyLoss()\n",
        "optimizer = optim.SGD(net.parameters(), lr=learning_rate, momentum=0.9)\n",
        "scheduler = lr_scheduler.LinearLR(optimizer, start_factor=1.0, end_factor=0.3, total_iters=10)\n",
        "\n",
        "device = torch.device('cuda' if torch.cuda.is_available() else 'cpu')"
      ]
    },
    {
      "cell_type": "code",
      "execution_count": null,
      "metadata": {
        "colab": {
          "base_uri": "https://localhost:8080/"
        },
        "id": "5-Ag8ogm4za3",
        "outputId": "d4784924-e042-4431-ff6a-d2852b01a551",
        "scrolled": false
      },
      "outputs": [
        {
          "output_type": "stream",
          "name": "stdout",
          "text": [
            "SAVE COMPLETE NEW ACC: 1.4705882352941178\n",
            "Epoch [1/500], Loss: 4.7370\n",
            "Epoch [2/500], Loss: 4.5019\n",
            "Epoch [3/500], Loss: 4.2382\n",
            "Epoch [4/500], Loss: 4.2971\n",
            "Epoch [5/500], Loss: 4.1987\n",
            "SAVE COMPLETE NEW ACC: 8.529411764705882\n",
            "Epoch [6/500], Loss: 3.9264\n",
            "Epoch [7/500], Loss: 3.8610\n",
            "Epoch [8/500], Loss: 4.0014\n",
            "Epoch [9/500], Loss: 3.9418\n",
            "Epoch [10/500], Loss: 3.6513\n",
            "SAVE COMPLETE NEW ACC: 14.117647058823529\n",
            "Epoch [11/500], Loss: 3.5700\n",
            "Epoch [12/500], Loss: 3.7523\n",
            "Epoch [13/500], Loss: 3.7487\n",
            "Epoch [14/500], Loss: 3.3074\n",
            "Epoch [15/500], Loss: 3.2793\n",
            "SAVE COMPLETE NEW ACC: 18.431372549019606\n",
            "Epoch [16/500], Loss: 3.3676\n",
            "Epoch [17/500], Loss: 3.4928\n",
            "Epoch [18/500], Loss: 3.0209\n",
            "Epoch [19/500], Loss: 3.1591\n",
            "Epoch [20/500], Loss: 3.2735\n",
            "SAVE COMPLETE NEW ACC: 19.901960784313726\n",
            "Epoch [21/500], Loss: 2.9954\n",
            "Epoch [22/500], Loss: 3.1055\n",
            "Epoch [23/500], Loss: 3.0118\n",
            "Epoch [24/500], Loss: 2.4528\n",
            "Epoch [25/500], Loss: 2.8765\n",
            "SAVE COMPLETE NEW ACC: 21.274509803921568\n",
            "Epoch [26/500], Loss: 2.5904\n",
            "Epoch [27/500], Loss: 2.7547\n",
            "Epoch [28/500], Loss: 2.7002\n",
            "Epoch [29/500], Loss: 2.9833\n",
            "Epoch [30/500], Loss: 2.4064\n",
            "SAVE COMPLETE NEW ACC: 24.11764705882353\n",
            "Epoch [31/500], Loss: 2.8803\n",
            "Epoch [32/500], Loss: 2.9357\n",
            "Epoch [33/500], Loss: 2.4715\n",
            "Epoch [34/500], Loss: 2.8469\n",
            "Epoch [35/500], Loss: 2.8558\n",
            "SAVE COMPLETE NEW ACC: 24.50980392156863\n",
            "Epoch [36/500], Loss: 2.7911\n",
            "Epoch [37/500], Loss: 2.3263\n",
            "Epoch [38/500], Loss: 2.3764\n",
            "Epoch [39/500], Loss: 2.0618\n",
            "Epoch [40/500], Loss: 2.2765\n",
            "SAVE COMPLETE NEW ACC: 25.49019607843137\n",
            "Epoch [41/500], Loss: 2.2895\n",
            "Epoch [42/500], Loss: 2.0294\n",
            "Epoch [43/500], Loss: 1.6593\n",
            "Epoch [44/500], Loss: 2.4508\n",
            "Epoch [45/500], Loss: 1.8982\n",
            "SAVE COMPLETE NEW ACC: 26.96078431372549\n",
            "Epoch [46/500], Loss: 2.2247\n",
            "Epoch [47/500], Loss: 2.2909\n",
            "Epoch [48/500], Loss: 2.1369\n",
            "Epoch [49/500], Loss: 2.2198\n",
            "Epoch [50/500], Loss: 1.6846\n",
            "SAVE COMPLETE NEW ACC: 27.15686274509804\n",
            "Epoch [51/500], Loss: 1.8683\n",
            "Epoch [52/500], Loss: 1.9890\n",
            "Epoch [53/500], Loss: 1.6458\n",
            "Epoch [54/500], Loss: 1.8372\n",
            "Epoch [55/500], Loss: 1.5576\n",
            "SAVE COMPLETE NEW ACC: 28.529411764705884\n",
            "Epoch [56/500], Loss: 1.7470\n",
            "Epoch [57/500], Loss: 1.3461\n",
            "Epoch [58/500], Loss: 1.8112\n",
            "Epoch [59/500], Loss: 2.2053\n",
            "Epoch [60/500], Loss: 2.2050\n",
            "SAVE COMPLETE NEW ACC: 30.980392156862745\n",
            "Epoch [61/500], Loss: 1.9972\n",
            "Epoch [62/500], Loss: 1.8440\n",
            "Epoch [63/500], Loss: 2.1224\n",
            "Epoch [64/500], Loss: 1.6268\n",
            "Epoch [65/500], Loss: 1.9544\n",
            "Epoch [66/500], Loss: 1.5466\n",
            "Epoch [67/500], Loss: 1.2945\n",
            "Epoch [68/500], Loss: 1.7626\n",
            "Epoch [69/500], Loss: 1.6799\n",
            "Epoch [70/500], Loss: 1.4851\n",
            "Epoch [71/500], Loss: 1.3843\n",
            "Epoch [72/500], Loss: 1.3512\n",
            "Epoch [73/500], Loss: 1.3181\n",
            "Epoch [74/500], Loss: 1.4109\n",
            "Epoch [75/500], Loss: 0.8643\n",
            "Epoch [76/500], Loss: 1.6259\n",
            "Epoch [77/500], Loss: 1.6207\n",
            "Epoch [78/500], Loss: 1.5336\n",
            "Epoch [79/500], Loss: 1.5208\n",
            "Epoch [80/500], Loss: 1.6216\n",
            "Epoch [81/500], Loss: 1.4287\n",
            "Epoch [82/500], Loss: 1.3588\n",
            "Epoch [83/500], Loss: 1.1084\n",
            "Epoch [84/500], Loss: 0.9108\n",
            "Epoch [85/500], Loss: 1.5143\n",
            "SAVE COMPLETE NEW ACC: 32.05882352941177\n",
            "Epoch [86/500], Loss: 1.4431\n",
            "Epoch [87/500], Loss: 1.4011\n",
            "Epoch [88/500], Loss: 1.2028\n",
            "Epoch [89/500], Loss: 1.1769\n",
            "Epoch [90/500], Loss: 0.7911\n",
            "SAVE COMPLETE NEW ACC: 33.03921568627451\n",
            "Epoch [91/500], Loss: 0.8202\n",
            "Epoch [92/500], Loss: 1.6803\n",
            "Epoch [93/500], Loss: 1.1357\n",
            "Epoch [94/500], Loss: 0.6814\n",
            "Epoch [95/500], Loss: 1.1106\n",
            "SAVE COMPLETE NEW ACC: 33.627450980392155\n",
            "Epoch [96/500], Loss: 1.1234\n",
            "Epoch [97/500], Loss: 0.9501\n",
            "Epoch [98/500], Loss: 1.2197\n",
            "Epoch [99/500], Loss: 0.8945\n",
            "Epoch [100/500], Loss: 1.2341\n",
            "Epoch [101/500], Loss: 0.9345\n",
            "Epoch [102/500], Loss: 1.2237\n",
            "Epoch [103/500], Loss: 0.8077\n",
            "Epoch [104/500], Loss: 0.7137\n",
            "Epoch [105/500], Loss: 0.6744\n",
            "Epoch [106/500], Loss: 1.0842\n",
            "Epoch [107/500], Loss: 0.8805\n",
            "Epoch [108/500], Loss: 0.5523\n",
            "Epoch [109/500], Loss: 0.4432\n",
            "Epoch [110/500], Loss: 1.4627\n",
            "SAVE COMPLETE NEW ACC: 34.31372549019608\n",
            "Epoch [111/500], Loss: 1.6536\n",
            "Epoch [112/500], Loss: 0.9654\n",
            "Epoch [113/500], Loss: 0.4951\n",
            "Epoch [114/500], Loss: 0.9534\n",
            "Epoch [115/500], Loss: 0.3528\n",
            "SAVE COMPLETE NEW ACC: 36.27450980392157\n",
            "Epoch [116/500], Loss: 0.5152\n",
            "Epoch [117/500], Loss: 1.0759\n",
            "Epoch [118/500], Loss: 0.9710\n",
            "Epoch [119/500], Loss: 0.7992\n",
            "Epoch [120/500], Loss: 0.9227\n",
            "Epoch [121/500], Loss: 0.6271\n"
          ]
        }
      ],
      "source": [
        "saveCounter = 0\n",
        "minLoss = 10000\n",
        "valAccurary = 0\n",
        "\n",
        "# We use the pre-defined number of epochs to determine how many iterations to train the network on\n",
        "for epoch in range(num_epochs):\n",
        "\t#Load in the data in batches using the train_loader object\n",
        "    for i, (images, labels) in enumerate(train_dataloader):  \n",
        "        # Move tensors to the configured device\n",
        "        images = images.to(device)\n",
        "        labels = labels.to(device)\n",
        "        \n",
        "        # Forward pass\n",
        "        outputs = net(images)\n",
        "        loss = criterion(outputs, labels)\n",
        "      \n",
        "        \n",
        "        # Backward and optimize\n",
        "        optimizer.zero_grad()\n",
        "        loss.backward()\n",
        "        optimizer.step()\n",
        "\n",
        "\n",
        "    if minLoss > loss and epoch % 5 == 0:\n",
        "        tempAcc = testValidationData(net)\n",
        "        if tempAcc > valAccurary:\n",
        "            valAccurary = tempAcc\n",
        "            saveCounter += 1\n",
        "            save_network(net, saveCounter)\n",
        "            print(\"SAVE COMPLETE NEW ACC:\", valAccurary)\n",
        "\n",
        "    print('Epoch [{}/{}], Loss: {:.4f}'.format(epoch+1, num_epochs, loss.item()))"
      ]
    },
    {
      "cell_type": "code",
      "execution_count": 20,
      "metadata": {
        "id": "BsUH3Yfv47K6",
        "colab": {
          "base_uri": "https://localhost:8080/"
        },
        "outputId": "5575b621-ffe9-48d5-9983-407e54e07c09"
      },
      "outputs": [
        {
          "output_type": "stream",
          "name": "stdout",
          "text": [
            "Accuracy of the network on the 6149 train images: 27.874451130265083 %\n"
          ]
        }
      ],
      "source": [
        "net.eval()\n",
        "\n",
        "with torch.no_grad():\n",
        "    correct = 0\n",
        "    total = 0\n",
        "    for images, labels in test_dataloader:\n",
        "        images = images.to(device)\n",
        "        labels = labels.to(device)\n",
        "        outputs = net(images)\n",
        "        _, predicted = torch.max(outputs.data, 1)\n",
        "        total += labels.size(0)\n",
        "        correct += (predicted == labels).sum().item()\n",
        "    \n",
        "    print('Accuracy of the network on the {} train images: {} %'.format(total, 100 * correct / total))"
      ]
    },
    {
      "cell_type": "code",
      "execution_count": 21,
      "metadata": {
        "id": "Ib-D2crz2ZFa"
      },
      "outputs": [],
      "source": [
        "save_network(net, \"FINALEPOCH\")"
      ]
    },
    {
      "cell_type": "code",
      "execution_count": null,
      "metadata": {
        "id": "lW_ztacc2ZFd"
      },
      "outputs": [],
      "source": []
    }
  ],
  "metadata": {
    "colab": {
      "provenance": []
    },
    "kernelspec": {
      "display_name": "Python 3 (ipykernel)",
      "language": "python",
      "name": "python3"
    },
    "language_info": {
      "codemirror_mode": {
        "name": "ipython",
        "version": 3
      },
      "file_extension": ".py",
      "mimetype": "text/x-python",
      "name": "python",
      "nbconvert_exporter": "python",
      "pygments_lexer": "ipython3",
      "version": "3.9.13"
    }
  },
  "nbformat": 4,
  "nbformat_minor": 0
}